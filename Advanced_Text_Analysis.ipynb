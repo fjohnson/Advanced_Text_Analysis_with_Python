{
 "cells": [
  {
   "cell_type": "markdown",
   "metadata": {},
   "source": [
    "![DSL_logo](dsl_logo.png)\n",
    "\n",
    "\n",
    "# Advanced Text Analysis with Python\n",
    "\n",
    "Welcome to the Digital Scholarship Lab introduction to Text Analysis with Python class. In this class we'll learn some more advanced text analysis techniques. We will perform a topic modeling exercise using [Latent Dirichlet allocation](https://en.wikipedia.org/wiki/Latent_Dirichlet_allocation). This workshop assumes you've completed our Introduction to Text Analysis [workshop](https://brockdsl.github.io/Text_Analysis_with_Python/) It would be useful to consult our Introduction to Python [Workshop](https://brockdsl.github.io/Intro_to_Python_Workshop/) for a basic introduction to the language. \n",
    "\n",
    "\n",
    "We'll use the Zoom's chat feature to interact.\n",
    "\n",
    "Be sure to enable line numbers by looking for the 'gear' icon and checking the box in the 'Editor' panel.\n",
    "\n",
    "\n",
    "[https://www.machinelearningplus.com/nlp/topic-modeling-gensim-python/](https://www.machinelearningplus.com/nlp/topic-modeling-gensim-python/)\n",
    "\n",
    "https://www.machinelearningplus.com/nlp/topic-modeling-gensim-python/"
   ]
  },
  {
   "cell_type": "markdown",
   "metadata": {},
   "source": [
    "# Before we Begin!\n",
    "\n",
    "1. Please click the 'Copy to Drive' button in the toolbar above\n",
    "1. Click on the Gear icon next to your picture, Select 'Editor' and make sure 'Show Line Numbers' is selected\n",
    "1. Share in the chat box a quick hello and where you are in the world right now."
   ]
  },
  {
   "cell_type": "markdown",
   "metadata": {},
   "source": [
    "# Libraries, Libraries, Libraries\n",
    "\n",
    "We need lots of different bits and pieces to build and run our project. Please run the following cell to do that. It might take a bit for it to finish however!"
   ]
  },
  {
   "cell_type": "code",
   "execution_count": null,
   "metadata": {
    "scrolled": false
   },
   "outputs": [],
   "source": [
    "# spacy for lemmatization\n",
    "!pip install spacy\n",
    "!python -m spacy download en_core_web_sm\n",
    "!pip install pyLDAvis\n",
    "\n",
    "\n",
    "# Gensim\n",
    "import gensim\n",
    "import nltk\n",
    "import spacy\n",
    "import pyLDAvis\n",
    "import pyLDAvis.gensim_models\n",
    "import warnings\n",
    "\n",
    "import gensim.corpora as corpora\n",
    "import matplotlib.pyplot as plt\n",
    "import numpy as np\n",
    "import pandas as pd\n",
    "\n",
    "\n",
    "from gensim.utils import simple_preprocess\n",
    "from gensim.models import CoherenceModel\n",
    "from nltk.corpus import stopwords\n",
    "from pprint import pprint\n",
    "from random import randint\n",
    "\n",
    "\n",
    "#Set some parameters\n",
    "%matplotlib inline\n",
    "nltk.download('stopwords')\n",
    "pd.set_option('display.max_colwidth', 999)\n",
    "pyLDAvis.enable_notebook()\n",
    "TOPICS_TO_SHOW = 5\n",
    "warnings.filterwarnings(\"ignore\", category=DeprecationWarning)\n",
    "warnings.filterwarnings(\"ignore\", category=FutureWarning)\n",
    "\n",
    "\n",
    "#LDA MODEL PARAMETERS\n",
    "\n",
    "print(\"\\nDone importing Librarians!\")"
   ]
  },
  {
   "cell_type": "markdown",
   "metadata": {},
   "source": [
    "# The general steps for Topic Modelling\n",
    "\n",
    "- Remove Stopwords\n",
    "- Create Bigrams\n",
    "- Lemmitize the text\n",
    "- Create Bags of words\n",
    "- Feed Bags of words into LDA model builder"
   ]
  },
  {
   "cell_type": "markdown",
   "metadata": {},
   "source": [
    "# Corpus\n",
    "\n",
    "\n",
    "![winnie_splash](https://raw.githubusercontent.com/BrockDSL/Text_Analysis_with_Python/master/winnie_splash.png)\n",
    "\n",
    "if you joined us for our first text analysis workshop this will look familiar.\n",
    "\n",
    "Corpus is a fancy way of saying the text that we will be looking at. Cleaning up a corpus and getting it ready for analysis is a big part of the process, once that is done the rest is easy. For our example we are going to be looking at some entries from the 1900 [diary](https://dr.library.brocku.ca/handle/10464/7282) of Winnie Beam. The next cell will load this corpus into a Pandas dataframe and show us a few entires. "
   ]
  },
  {
   "cell_type": "code",
   "execution_count": 167,
   "metadata": {},
   "outputs": [
    {
     "data": {
      "text/html": [
       "<div>\n",
       "<style scoped>\n",
       "    .dataframe tbody tr th:only-of-type {\n",
       "        vertical-align: middle;\n",
       "    }\n",
       "\n",
       "    .dataframe tbody tr th {\n",
       "        vertical-align: top;\n",
       "    }\n",
       "\n",
       "    .dataframe thead th {\n",
       "        text-align: right;\n",
       "    }\n",
       "</style>\n",
       "<table border=\"1\" class=\"dataframe\">\n",
       "  <thead>\n",
       "    <tr style=\"text-align: right;\">\n",
       "      <th></th>\n",
       "      <th>page</th>\n",
       "      <th>date</th>\n",
       "      <th>entry</th>\n",
       "    </tr>\n",
       "  </thead>\n",
       "  <tbody>\n",
       "    <tr>\n",
       "      <th>0</th>\n",
       "      <td>7</td>\n",
       "      <td>1900-01-01</td>\n",
       "      <td>New Year. First day of 1900 Charlie Merritt died at Grand Forks British Columbia yesterday of typhoid fever. To-day is election day and pap went up about 3 o'clock and did not get back until nearly 10. He brought us some candy chocolate drops. We had a very fat goose for dinner, not a very young one. Had to have good teeth.</td>\n",
       "    </tr>\n",
       "    <tr>\n",
       "      <th>1</th>\n",
       "      <td>7</td>\n",
       "      <td>1900-01-02</td>\n",
       "      <td>Went uptown in afternoon. Was up to Eckardt's but Miss Macfarlane was not there so I did not get what I wanted. Called at office and Nettie came home with me for tea. Mr Carman came over and borrowed my Mildred books. Then Leta came &amp; borrowed my German Grammar as she forgot hers &amp; left it at school before holiday. Papa, mamma, Nettie &amp; I played crokinole. Mamma &amp; I beat. The 2nd Contingent left for Toronto today to go to South Africa. Dr King's som went.</td>\n",
       "    </tr>\n",
       "    <tr>\n",
       "      <th>2</th>\n",
       "      <td>8</td>\n",
       "      <td>1900-01-03</td>\n",
       "      <td>Mrs Trusty was here washing School started to-day, but I was not going this week. Mamma went to the church and then to Mrs Chatfields Took her the church books. The queen Street Baptist church had a service of praise this evening. Mrs Chapman is organist &amp; Mrs Read-Muir sang Mrs George Armstrong has a daughter was born on New Year's day.</td>\n",
       "    </tr>\n",
       "    <tr>\n",
       "      <th>3</th>\n",
       "      <td>8</td>\n",
       "      <td>1900-01-04</td>\n",
       "      <td>Went over to Carman's to have Ella go with me to Dunn's greenhouse. We went about half past three. I brought a primrose Miss Chaplin was in there. Mamma went to Mrs Klotz at home Beatrice helped. Papa &amp; I went to Sunday School entertainment at night. Had a very long programme. There was a dialogue called \"Aunt Ketty's shopping which was good, and a shaving scene. Mr perry gave a tableful of prizes away. Beatrice came home with us. They had a drill of girls &amp; they sang \"Soldiers of the Queen\"</td>\n",
       "    </tr>\n",
       "    <tr>\n",
       "      <th>4</th>\n",
       "      <td>9</td>\n",
       "      <td>1900-01-05</td>\n",
       "      <td>Sweep day. I read \"At the Camerons\" in the \"Harper's Young People\" when mamma was sweeping. We had a beggar in afternoon asking for a few cents as he had a long way to go. Rats! Went over to Lee's in afternoon after eggs. Took a \"Young Ladies Journal\" Mrs Pay lent me. Her kitty has a sore tail. Mrs Malcolmson came after eggs when I was there. She got large sum of 2. Had some candy at night.</td>\n",
       "    </tr>\n",
       "  </tbody>\n",
       "</table>\n",
       "</div>"
      ],
      "text/plain": [
       "   page       date  \\\n",
       "0     7 1900-01-01   \n",
       "1     7 1900-01-02   \n",
       "2     8 1900-01-03   \n",
       "3     8 1900-01-04   \n",
       "4     9 1900-01-05   \n",
       "\n",
       "                                                                                                                                                                                                                                                                                                                                                                                                                                                                                                              entry  \n",
       "0                                                                                                                                                                             New Year. First day of 1900 Charlie Merritt died at Grand Forks British Columbia yesterday of typhoid fever. To-day is election day and pap went up about 3 o'clock and did not get back until nearly 10. He brought us some candy chocolate drops. We had a very fat goose for dinner, not a very young one. Had to have good teeth.  \n",
       "1                                       Went uptown in afternoon. Was up to Eckardt's but Miss Macfarlane was not there so I did not get what I wanted. Called at office and Nettie came home with me for tea. Mr Carman came over and borrowed my Mildred books. Then Leta came & borrowed my German Grammar as she forgot hers & left it at school before holiday. Papa, mamma, Nettie & I played crokinole. Mamma & I beat. The 2nd Contingent left for Toronto today to go to South Africa. Dr King's som went.  \n",
       "2                                                                                                                                                               Mrs Trusty was here washing School started to-day, but I was not going this week. Mamma went to the church and then to Mrs Chatfields Took her the church books. The queen Street Baptist church had a service of praise this evening. Mrs Chapman is organist & Mrs Read-Muir sang Mrs George Armstrong has a daughter was born on New Year's day.  \n",
       "3  Went over to Carman's to have Ella go with me to Dunn's greenhouse. We went about half past three. I brought a primrose Miss Chaplin was in there. Mamma went to Mrs Klotz at home Beatrice helped. Papa & I went to Sunday School entertainment at night. Had a very long programme. There was a dialogue called \"Aunt Ketty's shopping which was good, and a shaving scene. Mr perry gave a tableful of prizes away. Beatrice came home with us. They had a drill of girls & they sang \"Soldiers of the Queen\"  \n",
       "4                                                                                                         Sweep day. I read \"At the Camerons\" in the \"Harper's Young People\" when mamma was sweeping. We had a beggar in afternoon asking for a few cents as he had a long way to go. Rats! Went over to Lee's in afternoon after eggs. Took a \"Young Ladies Journal\" Mrs Pay lent me. Her kitty has a sore tail. Mrs Malcolmson came after eggs when I was there. She got large sum of 2. Had some candy at night.  "
      ]
     },
     "execution_count": 167,
     "metadata": {},
     "output_type": "execute_result"
    }
   ],
   "source": [
    "winnie_corpus = pd.read_csv('https://raw.githubusercontent.com/BrockDSL/Text_Analysis_with_Python/master/winnie_corpus.txt', header = None, delimiter=\"\\t\")\n",
    "winnie_corpus.columns = [\"page\",\"date\",\"entry\"]\n",
    "winnie_corpus['date'] = pd.to_datetime(winnie_corpus['date'])\n",
    "winnie_corpus['entry'] = winnie_corpus.entry.astype(str)\n",
    "\n",
    "data = winnie_corpus[\"entry\"].tolist()\n",
    "\n",
    "\n",
    "#preview our top entries\n",
    "winnie_corpus.head()"
   ]
  },
  {
   "cell_type": "markdown",
   "metadata": {},
   "source": [
    "## Cleaning Text\n",
    "\n",
    "Winnie uses _to-day_ and _to-morrow_ instead of contemporary spelling? Should we change this in the entire corpus?"
   ]
  },
  {
   "cell_type": "markdown",
   "metadata": {},
   "source": [
    "# Prepparing the Corpus!\n",
    "\n",
    "![Block Image of Pipeline]()\n",
    "\n",
    "\n",
    "With out text loaded up we need to now process it so when we compare different entries it will be as close as possiblies to **apples to apples**. Applying all of these preparations is often called a pipeline. We'll setup our pipeline in the next cell. "
   ]
  },
  {
   "cell_type": "code",
   "execution_count": 245,
   "metadata": {},
   "outputs": [
    {
     "name": "stdout",
     "output_type": "stream",
     "text": [
      "Done Loading Pipeline\n"
     ]
    }
   ],
   "source": [
    "#Parameters\n",
    "BIGRAM_MIN = 6\n",
    "BIGRAM_THRESH = 10\n",
    "\n",
    "ALLOWED_POSTAGS = [\n",
    "    \"ADJ\",\n",
    "    \"ADP\",\n",
    "    \"ADV\",\n",
    "    \"AUX\",\n",
    "    \"CONJ\"\n",
    "    \"CCONJ\",\n",
    "    \"DET\",\n",
    "    \"INTJ\",\n",
    "    \"NOUN\",\n",
    "    \"PART\",\n",
    "    \"PRON\",\n",
    "    \"PROPN\",\n",
    "    \"SCONJ\",\n",
    "    \"VERB\"\n",
    "]\n",
    "\n",
    "def sent_to_words(sentences):\n",
    "    for sentence in sentences:\n",
    "        yield(gensim.utils.simple_preprocess(str(sentence), deacc=True))  # deacc=True removes punctuations\n",
    "\n",
    "def remove_stopwords(texts):\n",
    "    return [[word for word in simple_preprocess(str(doc)) if word not in stop_words] for doc in texts]\n",
    "\n",
    "def make_bigrams(texts):\n",
    "    return [bigram_mod[doc] for doc in texts]\n",
    "\n",
    "def lemmatization(texts, allowed_postags=ALLOWED_POSTAGS):\n",
    "    \"\"\"https://spacy.io/api/annotation\"\"\"\n",
    "    texts_out = []\n",
    "    for sent in texts:\n",
    "        doc = nlp(\" \".join(sent)) \n",
    "        texts_out.append([token.lemma_ for token in doc if token.pos_ in allowed_postags])\n",
    "    return texts_out\n",
    "\n",
    "data_words = list(sent_to_words(data))\n",
    "stop_words = stopwords.words('english')\n",
    "bigram_mod = gensim.models.phrases.Phraser(gensim.models.Phrases(data_words, min_count=BIGRAM_MIN, threshold=BIGRAM_THRESH))\n",
    "nlp = spacy.load('en_core_web_md', disable=['parser', 'ner'])\n",
    "\n",
    "print(\"Done Loading Pipeline\")"
   ]
  },
  {
   "cell_type": "markdown",
   "metadata": {},
   "source": [
    "### Stop Words\n",
    "\n",
    "There are words in Englisht that just connect ideas and phrases but do not add any meaning to our statements. These are generally called stop words and we filter them out from our corpus."
   ]
  },
  {
   "cell_type": "code",
   "execution_count": 22,
   "metadata": {},
   "outputs": [
    {
     "name": "stdout",
     "output_type": "stream",
     "text": [
      "i\n",
      "me\n",
      "my\n",
      "myself\n",
      "we\n",
      "our\n",
      "ours\n",
      "ourselves\n",
      "you\n",
      "you're\n",
      "you've\n",
      "you'll\n",
      "you'd\n",
      "your\n",
      "yours\n",
      "yourself\n",
      "yourselves\n",
      "he\n",
      "him\n",
      "his\n",
      "himself\n",
      "she\n",
      "she's\n",
      "her\n",
      "hers\n",
      "herself\n",
      "it\n",
      "it's\n",
      "its\n",
      "itself\n",
      "they\n",
      "them\n",
      "their\n",
      "theirs\n",
      "themselves\n",
      "what\n",
      "which\n",
      "who\n",
      "whom\n",
      "this\n",
      "that\n",
      "that'll\n",
      "these\n",
      "those\n",
      "am\n",
      "is\n",
      "are\n",
      "was\n",
      "were\n",
      "be\n",
      "been\n",
      "being\n",
      "have\n",
      "has\n",
      "had\n",
      "having\n",
      "do\n",
      "does\n",
      "did\n",
      "doing\n",
      "a\n",
      "an\n",
      "the\n",
      "and\n",
      "but\n",
      "if\n",
      "or\n",
      "because\n",
      "as\n",
      "until\n",
      "while\n",
      "of\n",
      "at\n",
      "by\n",
      "for\n",
      "with\n",
      "about\n",
      "against\n",
      "between\n",
      "into\n",
      "through\n",
      "during\n",
      "before\n",
      "after\n",
      "above\n",
      "below\n",
      "to\n",
      "from\n",
      "up\n",
      "down\n",
      "in\n",
      "out\n",
      "on\n",
      "off\n",
      "over\n",
      "under\n",
      "again\n",
      "further\n",
      "then\n",
      "once\n",
      "here\n",
      "there\n",
      "when\n",
      "where\n",
      "why\n",
      "how\n",
      "all\n",
      "any\n",
      "both\n",
      "each\n",
      "few\n",
      "more\n",
      "most\n",
      "other\n",
      "some\n",
      "such\n",
      "no\n",
      "nor\n",
      "not\n",
      "only\n",
      "own\n",
      "same\n",
      "so\n",
      "than\n",
      "too\n",
      "very\n",
      "s\n",
      "t\n",
      "can\n",
      "will\n",
      "just\n",
      "don\n",
      "don't\n",
      "should\n",
      "should've\n",
      "now\n",
      "d\n",
      "ll\n",
      "m\n",
      "o\n",
      "re\n",
      "ve\n",
      "y\n",
      "ain\n",
      "aren\n",
      "aren't\n",
      "couldn\n",
      "couldn't\n",
      "didn\n",
      "didn't\n",
      "doesn\n",
      "doesn't\n",
      "hadn\n",
      "hadn't\n",
      "hasn\n",
      "hasn't\n",
      "haven\n",
      "haven't\n",
      "isn\n",
      "isn't\n",
      "ma\n",
      "mightn\n",
      "mightn't\n",
      "mustn\n",
      "mustn't\n",
      "needn\n",
      "needn't\n",
      "shan\n",
      "shan't\n",
      "shouldn\n",
      "shouldn't\n",
      "wasn\n",
      "wasn't\n",
      "weren\n",
      "weren't\n",
      "won\n",
      "won't\n",
      "wouldn\n",
      "wouldn't\n"
     ]
    }
   ],
   "source": [
    "#print out what our Stopwords are\n",
    "for word in stop_words:\n",
    "    print(word)"
   ]
  },
  {
   "cell_type": "markdown",
   "metadata": {},
   "source": [
    "### Tokenize words from sentences\n",
    "\n",
    "We now turn sentences into lists of words"
   ]
  },
  {
   "cell_type": "code",
   "execution_count": 23,
   "metadata": {},
   "outputs": [
    {
     "name": "stdout",
     "output_type": "stream",
     "text": [
      "['wow', 'this', 'is', 'sentence', 'with', 'words', 'and', 'stuff']\n",
      "['here', 'is', 'another']\n",
      "['finally', 'third']\n"
     ]
    }
   ],
   "source": [
    "test_text = [\"Wow, this is a sentence with words and stuff.\",\n",
    "             \"Here is another.\",\n",
    "             \"Finally a third\",]\n",
    "for token in sent_to_words(test_text):\n",
    "    print(token)"
   ]
  },
  {
   "cell_type": "markdown",
   "metadata": {},
   "source": [
    "### Bigrams for Phrases\n",
    "\n",
    "Very common phrases should be kept as phrases. If the two appear next to each enough times we should treat them as a phrase."
   ]
  },
  {
   "cell_type": "code",
   "execution_count": 24,
   "metadata": {},
   "outputs": [
    {
     "name": "stdout",
     "output_type": "stream",
     "text": [
      "['Sunday_School', 'is', 'where', 'you', 'go', 'on', 'Sundays']\n"
     ]
    }
   ],
   "source": [
    "documents = [\"Sunday School is where you go on Sunday\", \n",
    "             \"Sunday School happens only once a week\",]\n",
    "\n",
    "sentence_stream = [doc.split(\" \") for doc in documents]\n",
    "bigram = gensim.models.Phrases(sentence_stream, min_count=1, threshold=2)\n",
    "\n",
    "sent = [\"Sunday\",\"School\",\"is\",\"where\",\"you\",\"go\",\"on\",\"Sundays\"]\n",
    "\n",
    "print(bigram[sent])\n"
   ]
  },
  {
   "cell_type": "markdown",
   "metadata": {},
   "source": [
    "### Lemmitize\n",
    "\n",
    "Our last prepatory step is to change all of the words in our sentences to their **root words** and at this stage we'll just keep words that are: **Nouns**, **Adjectives**, **Verbs**, & **Adverbs** "
   ]
  },
  {
   "cell_type": "code",
   "execution_count": 25,
   "metadata": {},
   "outputs": [
    {
     "name": "stdout",
     "output_type": "stream",
     "text": [
      "[['mouse']]\n",
      "[['fish']]\n"
     ]
    }
   ],
   "source": [
    "print(lemmatization([[\"mice\"]]))\n",
    "print(lemmatization([[\"fishes\"]]))"
   ]
  },
  {
   "cell_type": "markdown",
   "metadata": {},
   "source": [
    "# Applying the pipeline to Diary Entries\n",
    "\n",
    "Now that we have all of our functions defined we can apply the pipeline to the documents in our corpus. Running the next cell will complete this step. "
   ]
  },
  {
   "cell_type": "code",
   "execution_count": 246,
   "metadata": {},
   "outputs": [
    {
     "name": "stdout",
     "output_type": "stream",
     "text": [
      "Done Prepping the Text!\n"
     ]
    }
   ],
   "source": [
    "# remove stop Words\n",
    "data_words_nostops = remove_stopwords(data_words)\n",
    "\n",
    "# form bigrams & trigrams\n",
    "data_words_bigrams = make_bigrams(data_words_nostops)\n",
    "\n",
    "# lemmatize\n",
    "data_lemmatized = lemmatization(data_words_bigrams)\n",
    "\n",
    "print(\"Done Prepping the Text!\")"
   ]
  },
  {
   "cell_type": "markdown",
   "metadata": {},
   "source": [
    "# How a Random Entry looks\n",
    "\n",
    "We can now pick individual entries in the corpus and see what they look like when they are processed. Run the cell below a few times and if you find something interesting please share what **random_entry** it was in the chat box. "
   ]
  },
  {
   "cell_type": "code",
   "execution_count": 251,
   "metadata": {},
   "outputs": [
    {
     "name": "stdout",
     "output_type": "stream",
     "text": [
      "Random Entry Number:  10\n",
      "\n",
      "\n",
      "Original Entry:\n",
      "Did not go to school in the afternoon. The \"Musician\" for January came to-night. I have to play at Muscial to-night. Called for Beatrice & then Beatrice mamma & I went up Wellington St. to meet Ethel McEdward. When we got the programmes there was a mistake in printing & my name was not on but I played just the same. \"Au Matin\" by Godard. Miss G. Champman came home with us Eva Robertson played a pretty \"Gigue\" by Godard.\n",
      "\n",
      "\n",
      "Prepared Text:\n",
      "['go', 'school', 'afternoon', 'musician', 'january', 'come', 'night', 'play', 'muscial', 'night', 'call', 'beatrice', 'beatrice', 'mamma', 'go', 'wellington', 'st', 'meet', 'ethel', 'mcedward', 'get', 'programme', 'mistake', 'printing', 'name', 'play', 'au', 'matin', 'godard', 'miss', 'champman', 'came_home', 'us', 'eva', 'robertson', 'play', 'pretty', 'gigue', 'godard']\n"
     ]
    }
   ],
   "source": [
    "\n",
    "random_entry = randint(0,len(data))\n",
    "#random_entry = 353\n",
    "\n",
    "print(\"Random Entry Number: \",random_entry)\n",
    "\n",
    "print(\"\\n\")\n",
    "print(\"Original Entry:\")\n",
    "print(data[random_entry])\n",
    "\n",
    "print(\"\\n\")\n",
    "print(\"Prepared Text:\")\n",
    "\n",
    "print(data_lemmatized[random_entry])\n",
    "\n"
   ]
  },
  {
   "cell_type": "markdown",
   "metadata": {},
   "source": [
    "## Dictionary and corpus etc\n",
    "\n",
    "With the texts prepped we need to create the 'bag of words', and the dictionary look-up for it"
   ]
  },
  {
   "cell_type": "code",
   "execution_count": 252,
   "metadata": {},
   "outputs": [],
   "source": [
    "# Create Dictionary\n",
    "id2word = corpora.Dictionary(data_lemmatized)\n",
    "\n",
    "# Create Corpus\n",
    "texts = data_lemmatized\n",
    "\n",
    "# Term Document Frequency, ie. bag of words\n",
    "corpus = [id2word.doc2bow(text) for text in texts]"
   ]
  },
  {
   "cell_type": "markdown",
   "metadata": {},
   "source": [
    "# Building the LDA Model\n",
    "\n",
    "We'll start with creating a model that only generates two different topics. Why two? This is the smallest number of categories we can get away with."
   ]
  },
  {
   "cell_type": "code",
   "execution_count": 249,
   "metadata": {},
   "outputs": [],
   "source": [
    "#CONSISTENT MODEL PARAMETERS\n",
    "\n",
    "ALPHA ='auto'             #default is 'symmetric'\n",
    "CHUNKSIZE = 100           #default is 2000\n",
    "COHERENCE_METHOD = 'c_v'\n",
    "ITERATIONS = 100          #default is 50\n",
    "NUM_TOPICS = 0            #default is 100\n",
    "PASSES = 20               #default is 1\n",
    "PER_WORD_TOPICS = False  #default is false\n",
    "RANDOM_STATE = 100\n",
    "UPDATE_EVERY = 1         #default is 1"
   ]
  },
  {
   "cell_type": "code",
   "execution_count": 250,
   "metadata": {},
   "outputs": [
    {
     "name": "stdout",
     "output_type": "stream",
     "text": [
      "Done Building Inital Model\n",
      "Coherence?  0.2505261437718759\n"
     ]
    },
    {
     "name": "stderr",
     "output_type": "stream",
     "text": [
      "/usr/local/anaconda3/lib/python3.9/site-packages/past/builtins/misc.py:45: DeprecationWarning: the imp module is deprecated in favour of importlib; see the module's documentation for alternative uses\n",
      "  from imp import reload\n",
      "/usr/local/anaconda3/lib/python3.9/site-packages/past/builtins/misc.py:45: DeprecationWarning: the imp module is deprecated in favour of importlib; see the module's documentation for alternative uses\n",
      "  from imp import reload\n",
      "/usr/local/anaconda3/lib/python3.9/site-packages/past/builtins/misc.py:45: DeprecationWarning: the imp module is deprecated in favour of importlib; see the module's documentation for alternative uses\n",
      "  from imp import reload\n",
      "/usr/local/anaconda3/lib/python3.9/site-packages/past/builtins/misc.py:45: DeprecationWarning: the imp module is deprecated in favour of importlib; see the module's documentation for alternative uses\n",
      "  from imp import reload\n",
      "/usr/local/anaconda3/lib/python3.9/site-packages/past/builtins/misc.py:45: DeprecationWarning: the imp module is deprecated in favour of importlib; see the module's documentation for alternative uses\n",
      "  from imp import reload\n",
      "/usr/local/anaconda3/lib/python3.9/site-packages/past/builtins/misc.py:45: DeprecationWarning: the imp module is deprecated in favour of importlib; see the module's documentation for alternative uses\n",
      "  from imp import reload\n"
     ]
    },
    {
     "data": {
      "text/html": [
       "\n",
       "<link rel=\"stylesheet\" type=\"text/css\" href=\"https://cdn.jsdelivr.net/gh/bmabey/pyLDAvis@3.3.1/pyLDAvis/js/ldavis.v1.0.0.css\">\n",
       "\n",
       "\n",
       "<div id=\"ldavis_el10422140463501565392332546938\"></div>\n",
       "<script type=\"text/javascript\">\n",
       "\n",
       "var ldavis_el10422140463501565392332546938_data = {\"mdsDat\": {\"x\": [0.06845953396536522, -0.06845953396536522], \"y\": [0.0, 0.0], \"topics\": [1, 2], \"cluster\": [1, 1], \"Freq\": [55.481259962271544, 44.518740037728456]}, \"tinfo\": {\"Term\": [\"church\", \"sunday_school\", \"get\", \"go\", \"sermon\", \"went_uptown\", \"verse\", \"mr_perry\", \"sing\", \"office\", \"mr\", \"music_lesson\", \"mr_read\", \"sunday\", \"matt\", \"mrs\", \"beatrice\", \"mrs_haun\", \"morning_sermon\", \"mclaren\", \"library\", \"take\", \"dr_abbott\", \"stamp\", \"read\", \"st\", \"night\", \"class\", \"school\", \"macgregor\", \"office\", \"music_lesson\", \"mr_read\", \"dr_abbott\", \"stamp\", \"mrs_tulley\", \"harmony\", \"mclaren\", \"band\", \"fish\", \"aunt_lillie\", \"fix\", \"green\", \"order\", \"post\", \"frank\", \"op\", \"another\", \"write\", \"ride\", \"wide\", \"etude\", \"horse\", \"pair\", \"uncle_horace\", \"library_book\", \"apple\", \"silver\", \"eckhardt\", \"kitchen\", \"library\", \"went_uptown\", \"waist\", \"get\", \"pretty\", \"take\", \"uptown\", \"send\", \"see\", \"mamma\", \"afternoon\", \"good\", \"drive\", \"buy\", \"bring\", \"go\", \"come\", \"picture\", \"papa\", \"day\", \"book\", \"little\", \"night\", \"eva\", \"home\", \"miss\", \"morning\", \"mrs\", \"mr\", \"play\", \"want\", \"give\", \"church\", \"sunday_school\", \"sermon\", \"verse\", \"mr_perry\", \"matt\", \"sing\", \"morning_sermon\", \"sunday\", \"class\", \"greenwood\", \"macgregor\", \"service\", \"speak\", \"notman\", \"verses\", \"keyes\", \"xii\", \"queen_st\", \"st_john\", \"social\", \"rev\", \"preach\", \"hold\", \"crokinole\", \"god\", \"watch\", \"samuel\", \"bury\", \"venison\", \"mattie\", \"mrs_haun\", \"go\", \"dwyer\", \"beatrice\", \"mr\", \"read\", \"school\", \"mrs\", \"st\", \"walk\", \"night\", \"papa\", \"lesson\", \"miss\", \"mamma\", \"morning\", \"came_home\", \"come\", \"call\", \"day\", \"coy\", \"home\", \"eva\", \"afternoon\", \"get\", \"play\", \"give\", \"see\", \"take\", \"drive\"], \"Freq\": [132.0, 48.0, 303.0, 563.0, 31.0, 64.0, 24.0, 21.0, 20.0, 28.0, 152.0, 24.0, 24.0, 15.0, 14.0, 137.0, 46.0, 16.0, 13.0, 20.0, 25.0, 132.0, 18.0, 18.0, 37.0, 38.0, 173.0, 11.0, 31.0, 11.0, 27.92789078144248, 23.987132318908397, 24.01019821941673, 17.763623776677633, 17.71508024540464, 15.305670445695691, 14.433720254144783, 19.605620498087728, 13.643594242720702, 13.613491496071445, 12.61933731759102, 15.69217742583678, 11.843615865372604, 10.567247998239846, 11.361247873328937, 12.715059663780169, 10.486488384634464, 11.022695533994321, 10.743831763241705, 9.785331348103147, 9.683794695892095, 11.235324485807595, 9.803729128803099, 9.071388104110225, 8.997535447243317, 9.965968891145032, 10.102049980990527, 8.536356102790117, 8.435597909362675, 7.536263872303019, 24.06663516478195, 60.2166848502707, 19.81593425906541, 244.66467744457256, 21.23613971968466, 102.50970638268363, 40.680079506439654, 27.954818258780453, 76.82515828939134, 179.41513632279006, 82.38249392590515, 28.196303721084327, 52.65258954059913, 27.699241551572772, 37.52000725524338, 255.6195917736335, 92.98766875202976, 32.62648720731824, 107.3596713544948, 62.63678419674898, 35.632163085292255, 31.923448529713575, 80.00038547438177, 46.8940517091634, 42.842316794331985, 51.7656625743669, 50.27678950140564, 57.493988832897266, 60.87186805938293, 37.5563482037347, 26.612737763211452, 27.714508822147423, 131.90968290825913, 48.36524318136917, 30.992319416890947, 24.319707935199144, 20.79155426925809, 14.467851562353175, 20.178909350595305, 12.630318211947639, 15.401077289181169, 10.737238779524215, 9.893365231210746, 10.891511620966183, 8.736935465286784, 9.070583785723457, 7.463386817822241, 6.599102147732738, 7.12948849917171, 6.494389515582454, 6.593457117641767, 6.52457662385086, 6.650668680718181, 6.454741207305043, 5.8968797000527955, 6.035615328558501, 6.002306411608299, 9.075147133401787, 6.282319199757224, 7.050934130834936, 6.06556370613818, 5.487506920638203, 7.234666620953996, 15.211347658810775, 307.39449110875785, 18.047825984815454, 33.490681848744245, 91.37904854036141, 26.806011298280264, 23.128460108177656, 79.98297221445645, 27.464231947660043, 13.575184700677298, 93.4615069014355, 106.9316867185294, 34.027925897666485, 56.35100584448208, 121.07718565439042, 53.15893850972807, 28.387867602160338, 71.76980835913602, 28.521480732053053, 45.731447914314394, 21.502578766726835, 33.49343394175766, 34.29942254947682, 41.626956112566106, 59.083031395634826, 27.97309873453815, 25.26324485596326, 32.06110051325623, 30.435929025888704, 22.42867778390904], \"Total\": [132.0, 48.0, 303.0, 563.0, 31.0, 64.0, 24.0, 21.0, 20.0, 28.0, 152.0, 24.0, 24.0, 15.0, 14.0, 137.0, 46.0, 16.0, 13.0, 20.0, 25.0, 132.0, 18.0, 18.0, 37.0, 38.0, 173.0, 11.0, 31.0, 11.0, 28.420235195169393, 24.4258777317767, 24.45447642726239, 18.22389887727391, 18.195769328672004, 15.746162016863016, 14.86940921877981, 20.215990212935544, 14.091281052973775, 14.065466655967601, 13.04965462166083, 16.25534932648634, 12.273454959830868, 10.999844511377699, 11.827805895585456, 13.238670491444548, 10.919977056891142, 11.482293746821068, 11.209001459149675, 10.221559129311073, 10.14146171653055, 11.766391818296713, 10.26819447234903, 9.50738322852969, 9.430066643946422, 10.446162203306603, 10.608947283700404, 8.994538832772196, 8.888784460251797, 7.9627727528783225, 25.5898816761388, 64.67535545957607, 21.482999109092834, 303.7477088402074, 23.432611702795082, 132.94563540857234, 48.965535098784606, 32.93638970962559, 108.88625880264757, 300.4923219771805, 124.00945003847126, 35.16232578252694, 75.08126732450818, 34.79564014631403, 50.288369551341766, 563.0140828823913, 164.75747711116577, 44.03767610130606, 214.29135807302418, 108.36823211106338, 51.480156899736926, 45.04786321153233, 173.46189237581729, 81.19347425864022, 76.33575073608964, 108.11666841884897, 103.4357280111337, 137.4769610473537, 152.25091659974436, 65.52944693827286, 40.83245307023354, 52.97775367811069, 132.48471195951947, 48.88370051603886, 31.45211185737612, 24.74479889693534, 21.26147037643641, 14.887471783216222, 20.792146016839716, 13.050670075460433, 15.963973968147648, 11.161394405918093, 10.36602607479501, 11.418297510196696, 9.195266348308687, 9.576839963762005, 7.906254170015282, 7.018722368595785, 7.583900457656933, 6.9140097364455, 7.023624105664943, 6.950487594717945, 7.099035516202819, 6.9131117208561985, 6.316499920915842, 6.465486198364137, 6.433709762440285, 9.728418532871684, 6.7474606646526905, 7.582155732188783, 6.5277306598359495, 5.907127196353193, 7.79397373387916, 16.55872257368021, 563.0140828823913, 22.814778463993573, 46.89465735050577, 152.25091659974436, 37.080947584458265, 31.15498099846108, 137.4769610473537, 38.486532547660424, 16.683647196953185, 173.46189237581729, 214.29135807302418, 54.67652494745888, 108.11666841884897, 300.4923219771805, 103.4357280111337, 45.36163392252977, 164.75747711116577, 52.36762688091121, 108.36823211106338, 35.16235213873264, 76.33575073608964, 81.19347425864022, 124.00945003847126, 303.7477088402074, 65.52944693827286, 52.97775367811069, 108.88625880264757, 132.94563540857234, 75.08126732450818], \"Category\": [\"Default\", \"Default\", \"Default\", \"Default\", \"Default\", \"Default\", \"Default\", \"Default\", \"Default\", \"Default\", \"Default\", \"Default\", \"Default\", \"Default\", \"Default\", \"Default\", \"Default\", \"Default\", \"Default\", \"Default\", \"Default\", \"Default\", \"Default\", \"Default\", \"Default\", \"Default\", \"Default\", \"Default\", \"Default\", \"Default\", \"Topic1\", \"Topic1\", \"Topic1\", \"Topic1\", \"Topic1\", \"Topic1\", \"Topic1\", \"Topic1\", \"Topic1\", \"Topic1\", \"Topic1\", \"Topic1\", \"Topic1\", \"Topic1\", \"Topic1\", \"Topic1\", \"Topic1\", \"Topic1\", \"Topic1\", \"Topic1\", \"Topic1\", \"Topic1\", \"Topic1\", \"Topic1\", \"Topic1\", \"Topic1\", \"Topic1\", \"Topic1\", \"Topic1\", \"Topic1\", \"Topic1\", \"Topic1\", \"Topic1\", \"Topic1\", \"Topic1\", \"Topic1\", \"Topic1\", \"Topic1\", \"Topic1\", \"Topic1\", \"Topic1\", \"Topic1\", \"Topic1\", \"Topic1\", \"Topic1\", \"Topic1\", \"Topic1\", \"Topic1\", \"Topic1\", \"Topic1\", \"Topic1\", \"Topic1\", \"Topic1\", \"Topic1\", \"Topic1\", \"Topic1\", \"Topic1\", \"Topic1\", \"Topic1\", \"Topic1\", \"Topic1\", \"Topic1\", \"Topic2\", \"Topic2\", \"Topic2\", \"Topic2\", \"Topic2\", \"Topic2\", \"Topic2\", \"Topic2\", \"Topic2\", \"Topic2\", \"Topic2\", \"Topic2\", \"Topic2\", \"Topic2\", \"Topic2\", \"Topic2\", \"Topic2\", \"Topic2\", \"Topic2\", \"Topic2\", \"Topic2\", \"Topic2\", \"Topic2\", \"Topic2\", \"Topic2\", \"Topic2\", \"Topic2\", \"Topic2\", \"Topic2\", \"Topic2\", \"Topic2\", \"Topic2\", \"Topic2\", \"Topic2\", \"Topic2\", \"Topic2\", \"Topic2\", \"Topic2\", \"Topic2\", \"Topic2\", \"Topic2\", \"Topic2\", \"Topic2\", \"Topic2\", \"Topic2\", \"Topic2\", \"Topic2\", \"Topic2\", \"Topic2\", \"Topic2\", \"Topic2\", \"Topic2\", \"Topic2\", \"Topic2\", \"Topic2\", \"Topic2\", \"Topic2\", \"Topic2\", \"Topic2\", \"Topic2\", \"Topic2\"], \"logprob\": [30.0, 29.0, 28.0, 27.0, 26.0, 25.0, 24.0, 23.0, 22.0, 21.0, 20.0, 19.0, 18.0, 17.0, 16.0, 15.0, 14.0, 13.0, 12.0, 11.0, 10.0, 9.0, 8.0, 7.0, 6.0, 5.0, 4.0, 3.0, 2.0, 1.0, -5.5982, -5.7503, -5.7493, -6.0507, -6.0534, -6.1996, -6.2583, -5.952, -6.3145, -6.3168, -6.3926, -6.1747, -6.456, -6.5701, -6.4976, -6.385, -6.5777, -6.5279, -6.5535, -6.6469, -6.6574, -6.5088, -6.6451, -6.7227, -6.7309, -6.6286, -6.6151, -6.7835, -6.7954, -6.9081, -5.747, -4.8299, -5.9413, -3.4279, -5.8721, -4.2979, -5.2221, -5.5972, -4.5863, -3.7381, -4.5164, -5.5886, -4.9641, -5.6064, -5.3029, -3.3841, -4.3954, -5.4427, -4.2516, -4.7905, -5.3546, -5.4645, -4.5458, -5.0799, -5.1703, -4.9811, -5.0103, -4.8761, -4.819, -5.302, -5.6464, -5.6059, -3.8256, -4.8289, -5.2739, -5.5164, -5.6731, -6.0358, -5.703, -6.1716, -5.9732, -6.334, -6.4158, -6.3197, -6.5401, -6.5026, -6.6977, -6.8207, -6.7434, -6.8367, -6.8216, -6.8321, -6.813, -6.8429, -6.9333, -6.91, -6.9155, -6.5021, -6.8699, -6.7545, -6.9051, -7.0052, -6.7288, -5.9856, -2.9796, -5.8147, -5.1964, -4.1927, -5.4191, -5.5666, -4.3259, -5.3948, -6.0994, -4.1701, -4.0355, -5.1805, -4.6761, -3.9113, -4.7344, -5.3617, -4.4342, -5.357, -4.8849, -5.6395, -5.1963, -5.1726, -4.9789, -4.6287, -5.3764, -5.4783, -5.24, -5.2921, -5.5973], \"loglift\": [30.0, 29.0, 28.0, 27.0, 26.0, 25.0, 24.0, 23.0, 22.0, 21.0, 20.0, 19.0, 18.0, 17.0, 16.0, 15.0, 14.0, 13.0, 12.0, 11.0, 10.0, 9.0, 8.0, 7.0, 6.0, 5.0, 4.0, 3.0, 2.0, 1.0, 0.5716, 0.571, 0.5708, 0.5635, 0.5624, 0.5608, 0.5594, 0.5585, 0.5568, 0.5565, 0.5556, 0.5539, 0.5535, 0.549, 0.5489, 0.5488, 0.5486, 0.5483, 0.5467, 0.5455, 0.5429, 0.5429, 0.5428, 0.5422, 0.5422, 0.5421, 0.5402, 0.5368, 0.5368, 0.5341, 0.5278, 0.5177, 0.5083, 0.3728, 0.4907, 0.3291, 0.4037, 0.4251, 0.2404, 0.0734, 0.1801, 0.3683, 0.2343, 0.361, 0.2962, -0.2005, 0.0171, 0.2892, -0.102, 0.0409, 0.2212, 0.2447, -0.1848, 0.0402, 0.0115, -0.1474, -0.1323, -0.2827, -0.3276, 0.0325, 0.161, -0.0588, 0.8049, 0.7986, 0.7945, 0.7919, 0.7869, 0.7807, 0.7793, 0.7765, 0.7734, 0.7705, 0.7626, 0.762, 0.7581, 0.7549, 0.7516, 0.7476, 0.7475, 0.7466, 0.7461, 0.746, 0.744, 0.7407, 0.7405, 0.7405, 0.7399, 0.7397, 0.7378, 0.7366, 0.7358, 0.7356, 0.7348, 0.7244, 0.2041, 0.5749, 0.4726, 0.2987, 0.4848, 0.5113, 0.2676, 0.4718, 0.6031, 0.1909, 0.1141, 0.335, 0.1576, -0.0997, 0.1436, 0.3406, -0.0218, 0.2016, -0.0535, 0.3175, -0.0145, -0.0524, -0.2823, -0.828, -0.042, 0.0687, -0.4134, -0.6651, -0.399]}, \"token.table\": {\"Topic\": [1, 2, 1, 1, 2, 1, 1, 1, 2, 1, 2, 1, 2, 2, 1, 2, 1, 2, 1, 2, 1, 2, 2, 1, 2, 1, 2, 2, 1, 2, 1, 1, 2, 1, 2, 1, 1, 2, 1, 2, 1, 1, 2, 1, 2, 1, 2, 1, 2, 1, 2, 1, 2, 1, 2, 1, 2, 1, 2, 1, 2, 1, 2, 1, 1, 2, 1, 2, 1, 1, 2, 1, 2, 1, 2, 2, 1, 2, 1, 2, 1, 2, 1, 2, 2, 1, 2, 2, 1, 1, 2, 1, 2, 1, 1, 1, 2, 2, 1, 1, 1, 1, 1, 2, 1, 2, 1, 2, 1, 2, 1, 2, 2, 1, 2, 2, 1, 1, 2, 1, 2, 1, 2, 1, 2, 2, 2, 1, 1, 2, 2, 1, 2, 1, 2, 2, 1, 1, 2, 1, 2, 1, 2, 1, 1, 2, 2, 2, 2, 1, 2, 1, 2, 1, 2, 2, 1, 2, 1, 1, 2], \"Freq\": [0.6612399294937705, 0.3386838663260776, 0.9579967419876718, 0.9426005929319687, 0.09426005929319688, 0.9961949474449378, 0.9935221607864736, 0.2772170804625741, 0.7037048965588419, 0.6992985679922038, 0.31079936355209054, 0.7556419175850195, 0.2585090770685593, 0.9191555706973344, 0.8046985163158752, 0.2011746290789688, 0.4582984074221695, 0.5537772423017882, 0.37476604191624163, 0.6172617160973392, 0.007548040715109444, 0.9963413743944466, 0.9855399424078664, 0.5644660359617591, 0.43700596332523284, 0.39815311401134845, 0.6256691791606904, 0.9325879191858696, 0.5813511835777959, 0.4244786419774383, 0.987713996945345, 0.7059017766832452, 0.293015831830781, 0.2191561933371841, 0.7889622960138628, 0.9000105735237257, 0.9348660294394604, 0.08498782085813276, 0.5788642551528516, 0.4187528654297224, 0.9953455752611077, 0.9842913664075938, 0.061518210400474616, 0.9819717175075255, 0.07553628596211735, 0.8065904461813972, 0.19424014826409156, 0.5285237303590888, 0.47189618782061504, 0.45469555342095436, 0.5452794332040352, 0.10279163017309195, 0.9251246715578276, 0.796306824900471, 0.19907670622511775, 0.9777198058145938, 0.9646898365724736, 0.9415303455579284, 0.9280044556460562, 0.5633009380972875, 0.43230071993512764, 0.9738810486038958, 0.923007895354506, 1.004675161313403, 0.38407707915197314, 0.6218390805317661, 0.9378706906010715, 0.07815589088342262, 0.9572893666953232, 0.7103555578149586, 0.2885819453623269, 0.08757873046371285, 0.9633660351008414, 0.5956890972195733, 0.40267251823222555, 0.9403880124080748, 0.128304255844892, 0.898129790914244, 0.9893158726997533, 0.04946579363498767, 0.48096191605303257, 0.5179589865186505, 0.48339196679331203, 0.5123954848009108, 0.9961174349541094, 0.4006544023663528, 0.5976975510711164, 0.9877021498604258, 0.9814154096239113, 0.41461492577193676, 0.5819156852939463, 0.060391131957816716, 0.9058669793672507, 0.9526130865372826, 0.9825644860564148, 0.46119639826524217, 0.536140812983344, 0.8853750270953494, 0.9852135215530933, 0.9157528397634698, 1.0000141355291106, 0.946632715192637, 0.4993201824010913, 0.4993201824010913, 0.7493583431624652, 0.2497861143874884, 0.5798919688090008, 0.42728881912242167, 0.9300118802343196, 0.9498931489149846, 0.8961869153277133, 0.08535113479311555, 0.9966364792150695, 0.2696802711749281, 0.7281367321723059, 0.867915960608386, 0.9783243312973913, 0.13188861259531587, 0.9232202881672111, 0.2567807696751657, 0.7382447128161015, 0.707159937780209, 0.29388464946709986, 0.8501235334793559, 0.15180777383559926, 0.9856253894992398, 0.9787644706621682, 1.000607164784025, 0.04809508355655508, 0.9619016711311016, 0.9860494406632027, 0.10441857687754205, 0.9397671918978785, 0.28581426467499954, 0.7015441042022715, 1.0071235873177706, 0.9892409424885641, 0.06264104426599947, 0.939615663989992, 0.020456716440112745, 0.9819223891254117, 0.7747527753239694, 0.22565614815261245, 0.9543941034369571, 0.8373236382954933, 0.1633802221064377, 0.8464351339999561, 0.9699007900594584, 0.9973325104466939, 0.9309687115117393, 0.09309687115117393, 0.17981679692602637, 0.8391450523214564, 0.6612387444261275, 0.3428645341468809, 0.8892234128064881, 0.9277104018006009, 0.06184736012004006, 0.98605115115704, 0.9813541411417096, 0.8678032326701071], \"Term\": [\"afternoon\", \"afternoon\", \"another\", \"apple\", \"apple\", \"aunt_lillie\", \"band\", \"beatrice\", \"beatrice\", \"book\", \"book\", \"bring\", \"bring\", \"bury\", \"buy\", \"buy\", \"call\", \"call\", \"came_home\", \"came_home\", \"church\", \"church\", \"class\", \"come\", \"come\", \"coy\", \"coy\", \"crokinole\", \"day\", \"day\", \"dr_abbott\", \"drive\", \"drive\", \"dwyer\", \"dwyer\", \"eckhardt\", \"etude\", \"etude\", \"eva\", \"eva\", \"fish\", \"fix\", \"fix\", \"frank\", \"frank\", \"get\", \"get\", \"give\", \"give\", \"go\", \"go\", \"god\", \"god\", \"good\", \"good\", \"green\", \"greenwood\", \"harmony\", \"hold\", \"home\", \"home\", \"horse\", \"keyes\", \"kitchen\", \"lesson\", \"lesson\", \"library\", \"library\", \"library_book\", \"little\", \"little\", \"macgregor\", \"macgregor\", \"mamma\", \"mamma\", \"matt\", \"mattie\", \"mattie\", \"mclaren\", \"mclaren\", \"miss\", \"miss\", \"morning\", \"morning\", \"morning_sermon\", \"mr\", \"mr\", \"mr_perry\", \"mr_read\", \"mrs\", \"mrs\", \"mrs_haun\", \"mrs_haun\", \"mrs_tulley\", \"music_lesson\", \"night\", \"night\", \"notman\", \"office\", \"op\", \"order\", \"pair\", \"papa\", \"papa\", \"picture\", \"picture\", \"play\", \"play\", \"post\", \"preach\", \"pretty\", \"pretty\", \"queen_st\", \"read\", \"read\", \"rev\", \"ride\", \"samuel\", \"samuel\", \"school\", \"school\", \"see\", \"see\", \"send\", \"send\", \"sermon\", \"service\", \"silver\", \"sing\", \"sing\", \"social\", \"speak\", \"speak\", \"st\", \"st\", \"st_john\", \"stamp\", \"sunday\", \"sunday\", \"sunday_school\", \"sunday_school\", \"take\", \"take\", \"uncle_horace\", \"uptown\", \"uptown\", \"venison\", \"verse\", \"verses\", \"waist\", \"waist\", \"walk\", \"walk\", \"want\", \"want\", \"watch\", \"went_uptown\", \"went_uptown\", \"wide\", \"write\", \"xii\"]}, \"R\": 30, \"lambda.step\": 0.01, \"plot.opts\": {\"xlab\": \"PC1\", \"ylab\": \"PC2\"}, \"topic.order\": [1, 2]};\n",
       "\n",
       "function LDAvis_load_lib(url, callback){\n",
       "  var s = document.createElement('script');\n",
       "  s.src = url;\n",
       "  s.async = true;\n",
       "  s.onreadystatechange = s.onload = callback;\n",
       "  s.onerror = function(){console.warn(\"failed to load library \" + url);};\n",
       "  document.getElementsByTagName(\"head\")[0].appendChild(s);\n",
       "}\n",
       "\n",
       "if(typeof(LDAvis) !== \"undefined\"){\n",
       "   // already loaded: just create the visualization\n",
       "   !function(LDAvis){\n",
       "       new LDAvis(\"#\" + \"ldavis_el10422140463501565392332546938\", ldavis_el10422140463501565392332546938_data);\n",
       "   }(LDAvis);\n",
       "}else if(typeof define === \"function\" && define.amd){\n",
       "   // require.js is available: use it to load d3/LDAvis\n",
       "   require.config({paths: {d3: \"https://d3js.org/d3.v5\"}});\n",
       "   require([\"d3\"], function(d3){\n",
       "      window.d3 = d3;\n",
       "      LDAvis_load_lib(\"https://cdn.jsdelivr.net/gh/bmabey/pyLDAvis@3.3.1/pyLDAvis/js/ldavis.v3.0.0.js\", function(){\n",
       "        new LDAvis(\"#\" + \"ldavis_el10422140463501565392332546938\", ldavis_el10422140463501565392332546938_data);\n",
       "      });\n",
       "    });\n",
       "}else{\n",
       "    // require.js not available: dynamically load d3 & LDAvis\n",
       "    LDAvis_load_lib(\"https://d3js.org/d3.v5.js\", function(){\n",
       "         LDAvis_load_lib(\"https://cdn.jsdelivr.net/gh/bmabey/pyLDAvis@3.3.1/pyLDAvis/js/ldavis.v3.0.0.js\", function(){\n",
       "                 new LDAvis(\"#\" + \"ldavis_el10422140463501565392332546938\", ldavis_el10422140463501565392332546938_data);\n",
       "            })\n",
       "         });\n",
       "}\n",
       "</script>"
      ],
      "text/plain": [
       "PreparedData(topic_coordinates=             x    y  topics  cluster      Freq\n",
       "topic                                         \n",
       "0      0.06846  0.0       1        1  55.48126\n",
       "1     -0.06846  0.0       2        1  44.51874, topic_info=               Term        Freq       Total Category  logprob  loglift\n",
       "75           church  132.000000  132.000000  Default  30.0000  30.0000\n",
       "121   sunday_school   48.000000   48.000000  Default  29.0000  29.0000\n",
       "17              get  303.000000  303.000000  Default  28.0000  28.0000\n",
       "18               go  563.000000  563.000000  Default  27.0000  27.0000\n",
       "702          sermon   31.000000   31.000000  Default  26.0000  26.0000\n",
       "...             ...         ...         ...      ...      ...      ...\n",
       "60             play   27.973099   65.529447   Topic2  -5.3764  -0.0420\n",
       "103            give   25.263245   52.977754   Topic2  -5.4783   0.0687\n",
       "355             see   32.061101  108.886259   Topic2  -5.2400  -0.4134\n",
       "90             take   30.435929  132.945635   Topic2  -5.2921  -0.6651\n",
       "1377          drive   22.428678   75.081267   Topic2  -5.5973  -0.3990\n",
       "\n",
       "[153 rows x 6 columns], token_table=      Topic      Freq         Term\n",
       "term                              \n",
       "32        1  0.661240    afternoon\n",
       "32        2  0.338684    afternoon\n",
       "405       1  0.957997      another\n",
       "1609      1  0.942601        apple\n",
       "1609      2  0.094260        apple\n",
       "...     ...       ...          ...\n",
       "68        1  0.927710  went_uptown\n",
       "68        2  0.061847  went_uptown\n",
       "1210      1  0.986051         wide\n",
       "404       1  0.981354        write\n",
       "1117      2  0.867803          xii\n",
       "\n",
       "[161 rows x 3 columns], R=30, lambda_step=0.01, plot_opts={'xlab': 'PC1', 'ylab': 'PC2'}, topic_order=[1, 2])"
      ]
     },
     "execution_count": 250,
     "metadata": {},
     "output_type": "execute_result"
    }
   ],
   "source": [
    "#Generate Model and get basic dynamics of it\n",
    "lda_model_initial = gensim.models.ldamodel.LdaModel(\\\n",
    "                                            alpha=ALPHA,\n",
    "                                            chunksize=CHUNKSIZE,\n",
    "                                            corpus=corpus,\n",
    "                                            id2word=id2word,\n",
    "                                            iterations = ITERATIONS,\n",
    "                                            num_topics=2,\n",
    "                                            passes= PASSES,\n",
    "                                            per_word_topics= PER_WORD_TOPICS,\n",
    "                                            random_state=RANDOM_STATE,\n",
    "                                            update_every=UPDATE_EVERY,\n",
    "                                           )\n",
    "\n",
    "print(\"Done Building Inital Model\")\n",
    "\n",
    "cs = CoherenceModel(model = lda_model_initial, \\\n",
    "                               texts = data_lemmatized, \\\n",
    "                               dictionary = id2word, \\\n",
    "                               coherence = COHERENCE_METHOD\n",
    "                     )\n",
    "print(\"Coherence? \",cs.get_coherence())\n",
    "\n",
    "vis = pyLDAvis.gensim_models.prepare(lda_model_initial,corpus,id2word)\n",
    "vis"
   ]
  },
  {
   "cell_type": "markdown",
   "metadata": {},
   "source": [
    "# What are we doing here?\n",
    "\n",
    "Ultimately we are trying to find the the balance between number of topics in our text and size of our text. If we have the same number of topics as entries, it doesn't tell us much. We will need to find a place where we get comfortable with an amount of topics. We will focus on the range of 4 to 10 topics with this in mind."
   ]
  },
  {
   "cell_type": "markdown",
   "metadata": {},
   "source": [
    "##  Initial Coherence Plot\n",
    "\n",
    "We seek to maximize this! We would like to get over 0.3."
   ]
  },
  {
   "cell_type": "code",
   "execution_count": 253,
   "metadata": {},
   "outputs": [
    {
     "data": {
      "image/png": "[encoded data removed]",
      "text/plain": [
       "<Figure size 640x480 with 1 Axes>"
      ]
     },
     "metadata": {},
     "output_type": "display_data"
    },
    {
     "data": {
      "text/html": [
       "<div>\n",
       "<style scoped>\n",
       "    .dataframe tbody tr th:only-of-type {\n",
       "        vertical-align: middle;\n",
       "    }\n",
       "\n",
       "    .dataframe tbody tr th {\n",
       "        vertical-align: top;\n",
       "    }\n",
       "\n",
       "    .dataframe thead th {\n",
       "        text-align: right;\n",
       "    }\n",
       "</style>\n",
       "<table border=\"1\" class=\"dataframe\">\n",
       "  <thead>\n",
       "    <tr style=\"text-align: right;\">\n",
       "      <th></th>\n",
       "      <th>num_topics</th>\n",
       "      <th>c_v</th>\n",
       "    </tr>\n",
       "  </thead>\n",
       "  <tbody>\n",
       "    <tr>\n",
       "      <th>0</th>\n",
       "      <td>4</td>\n",
       "      <td>0.295566</td>\n",
       "    </tr>\n",
       "    <tr>\n",
       "      <th>1</th>\n",
       "      <td>5</td>\n",
       "      <td>0.298164</td>\n",
       "    </tr>\n",
       "    <tr>\n",
       "      <th>2</th>\n",
       "      <td>6</td>\n",
       "      <td>0.288869</td>\n",
       "    </tr>\n",
       "    <tr>\n",
       "      <th>3</th>\n",
       "      <td>7</td>\n",
       "      <td>0.282509</td>\n",
       "    </tr>\n",
       "    <tr>\n",
       "      <th>4</th>\n",
       "      <td>8</td>\n",
       "      <td>0.424910</td>\n",
       "    </tr>\n",
       "    <tr>\n",
       "      <th>5</th>\n",
       "      <td>9</td>\n",
       "      <td>0.465835</td>\n",
       "    </tr>\n",
       "    <tr>\n",
       "      <th>6</th>\n",
       "      <td>10</td>\n",
       "      <td>0.428131</td>\n",
       "    </tr>\n",
       "  </tbody>\n",
       "</table>\n",
       "</div>"
      ],
      "text/plain": [
       "   num_topics       c_v\n",
       "0           4  0.295566\n",
       "1           5  0.298164\n",
       "2           6  0.288869\n",
       "3           7  0.282509\n",
       "4           8  0.424910\n",
       "5           9  0.465835\n",
       "6          10  0.428131"
      ]
     },
     "execution_count": 253,
     "metadata": {},
     "output_type": "execute_result"
    }
   ],
   "source": [
    "TOPIC_CHOICES = [4,5,6,7,8,9,10]\n",
    "\n",
    "c_Scores = []\n",
    "for t_number in TOPIC_CHOICES:\n",
    "    lda_model_coh = gensim.models.ldamodel.LdaModel(\\\n",
    "                                                alpha=ALPHA,\n",
    "                                                chunksize=CHUNKSIZE,\n",
    "                                                corpus=corpus,\n",
    "                                                id2word=id2word,\n",
    "                                                iterations = ITERATIONS,\n",
    "                                                num_topics=t_number,\n",
    "                                                passes= PASSES,\n",
    "                                                per_word_topics= PER_WORD_TOPICS,\n",
    "                                                random_state=RANDOM_STATE,\n",
    "                                                update_every=UPDATE_EVERY,\n",
    "                                               )\n",
    "    \n",
    "    cs = CoherenceModel(\n",
    "                        model = lda_model_coh, \\\n",
    "                        texts = data_lemmatized, \\\n",
    "                        dictionary = id2word, \\\n",
    "                        coherence = COHERENCE_METHOD,\n",
    "                        )\n",
    "    c_Scores.append(cs.get_coherence())\n",
    "    \n",
    "    \n",
    "plt.plot(TOPIC_CHOICES, c_Scores)\n",
    "plt.title(\"Coherence Scores\")\n",
    "plt.ylabel(COHERENCE_METHOD)\n",
    "plt.xlabel(\"Number of Topics\")\n",
    "plt.show()\n",
    "    \n",
    "cScore_df = pd.DataFrame(list(zip(TOPIC_CHOICES,c_Scores)))\n",
    "cScore_df.columns = [\"num_topics\",COHERENCE_METHOD]\n",
    "cScore_df"
   ]
  },
  {
   "cell_type": "markdown",
   "metadata": {},
   "source": [
    "# Final Model?\n",
    "\n",
    "Now that we have some guidance on the number of topics to use, let's build and visualize our model again"
   ]
  },
  {
   "cell_type": "code",
   "execution_count": 254,
   "metadata": {},
   "outputs": [],
   "source": [
    "NUM_TOPICS = 9"
   ]
  },
  {
   "cell_type": "code",
   "execution_count": 255,
   "metadata": {},
   "outputs": [
    {
     "name": "stdout",
     "output_type": "stream",
     "text": [
      "Done Building Optimized Model\n",
      "Coherence?  0.46583465838317806\n"
     ]
    },
    {
     "name": "stderr",
     "output_type": "stream",
     "text": [
      "/usr/local/anaconda3/lib/python3.9/site-packages/past/builtins/misc.py:45: DeprecationWarning: the imp module is deprecated in favour of importlib; see the module's documentation for alternative uses\n",
      "  from imp import reload\n",
      "/usr/local/anaconda3/lib/python3.9/site-packages/past/builtins/misc.py:45: DeprecationWarning: the imp module is deprecated in favour of importlib; see the module's documentation for alternative uses\n",
      "  from imp import reload\n",
      "/usr/local/anaconda3/lib/python3.9/site-packages/past/builtins/misc.py:45: DeprecationWarning: the imp module is deprecated in favour of importlib; see the module's documentation for alternative uses\n",
      "  from imp import reload\n"
     ]
    },
    {
     "data": {
      "text/html": [
       "\n",
       "<link rel=\"stylesheet\" type=\"text/css\" href=\"https://cdn.jsdelivr.net/gh/bmabey/pyLDAvis@3.3.1/pyLDAvis/js/ldavis.v1.0.0.css\">\n",
       "\n",
       "\n",
       "<div id=\"ldavis_el104221404630466564005619427217\"></div>\n",
       "<script type=\"text/javascript\">\n",
       "\n",
       "var ldavis_el104221404630466564005619427217_data = {\"mdsDat\": {\"x\": [0.3239586299721048, 0.2162599964489504, 0.017609992080716955, -0.09410900974818656, -0.08877478937945536, -0.09837931543577401, -0.10152759506262024, -0.09830047133072524, -0.07673743754501049], \"y\": [-0.09696047599316313, 0.19679739620538367, -0.18599760026963175, 0.02292903962461238, 0.019861376046346118, 0.00479465045361854, 0.012490892887189178, 0.009750338903538956, 0.016334382142106054], \"topics\": [1, 2, 3, 4, 5, 6, 7, 8, 9], \"cluster\": [1, 1, 1, 1, 1, 1, 1, 1, 1], \"Freq\": [57.43372772544173, 17.766422940944373, 8.013069357484493, 4.737307438805508, 3.386431587349232, 2.5122614707259925, 2.3378472389534912, 2.3048698947953503, 1.5080623454998277]}, \"tinfo\": {\"Term\": [\"go\", \"church\", \"eva\", \"get\", \"drive\", \"lesson\", \"sunday_school\", \"mr\", \"papa\", \"rain\", \"ready\", \"sermon\", \"morning\", \"night\", \"overholt\", \"day\", \"warm\", \"mamma\", \"see\", \"st\", \"tom\", \"valse\", \"came_home\", \"fix\", \"much\", \"lizzie\", \"rainy\", \"verse\", \"aunt_allie\", \"stamp\", \"day\", \"uptown\", \"picture\", \"new\", \"good\", \"buy\", \"went_uptown\", \"start\", \"dr\", \"school\", \"clean\", \"back\", \"office\", \"say\", \"meet\", \"dinner\", \"tea\", \"mr_read\", \"music_lesson\", \"piece\", \"pretty\", \"letter\", \"dwyer\", \"finish\", \"old\", \"waist\", \"mrs_sullivan\", \"concert\", \"phoebe\", \"lee\", \"get\", \"eva\", \"bring\", \"afternoon\", \"come\", \"take\", \"little\", \"call\", \"mamma\", \"mrs\", \"see\", \"play\", \"want\", \"night\", \"papa\", \"go\", \"miss\", \"home\", \"mr\", \"book\", \"morning\", \"give\", \"drive\", \"sunday_school\", \"sermon\", \"verse\", \"mr_perry\", \"walk\", \"help\", \"sunday\", \"matt\", \"lesson\", \"port\", \"look\", \"morning_sermon\", \"mabel\", \"away\", \"class\", \"do\", \"god\", \"hair\", \"water\", \"train\", \"talk\", \"samuel\", \"bible\", \"social\", \"verses\", \"st_john\", \"xii\", \"rev\", \"awful\", \"mudturtle\", \"lizzie\", \"church\", \"time\", \"catch\", \"mrs_haun\", \"mattie\", \"coming_home\", \"ii\", \"evening\", \"dudley\", \"go\", \"came_home\", \"read\", \"mr\", \"beatrice\", \"morning\", \"papa\", \"night\", \"sing\", \"mamma\", \"miss\", \"give\", \"mrs\", \"st\", \"overholt\", \"change\", \"around\", \"dead\", \"apple\", \"lovely\", \"place\", \"kid\", \"street\", \"flag\", \"gray\", \"money\", \"love\", \"wheel\", \"keating\", \"chatfield\", \"velvet\", \"trusty\", \"picnic\", \"right\", \"vanderburgh\", \"martindale\", \"taffy\", \"crawford\", \"wind\", \"dewey\", \"lent\", \"bag\", \"mount\", \"homer\", \"annie\", \"stamp\", \"pair\", \"thing\", \"drive\", \"aunt_allie\", \"st\", \"nellie\", \"pick\", \"sing\", \"go\", \"present\", \"lloyd\", \"see\", \"get\", \"mclaren\", \"rainy\", \"story\", \"black\", \"hamilton\", \"roy\", \"pin\", \"head\", \"can\", \"jadassohn\", \"weekly\", \"quilt\", \"crokinole\", \"holiday\", \"ida\", \"ridley\", \"sun\", \"shoot\", \"great\", \"care\", \"number\", \"collier\", \"later\", \"williams\", \"king\", \"closing\", \"phelps\", \"rose\", \"reading\", \"louis\", \"dow\", \"german\", \"fine\", \"turn\", \"people\", \"far\", \"aunt_allie\", \"watch\", \"etude\", \"dress\", \"hear\", \"band\", \"noon\", \"came_home\", \"frank\", \"tie\", \"meat\", \"francis\", \"washing\", \"constance\", \"season\", \"lecture\", \"daughter\", \"end\", \"forget\", \"trolley\", \"appeal\", \"cat\", \"enjoy\", \"octave\", \"study\", \"sullivan\", \"american\", \"lamb\", \"heart\", \"heaven\", \"monument\", \"clifton\", \"doz\", \"pretoria\", \"ave\", \"anna\", \"floyd\", \"seymour\", \"warm\", \"ribbon\", \"aunt_lillie\", \"david\", \"beam\", \"grandpa\", \"fire\", \"much\", \"rain\", \"snow\", \"thing\", \"wash\", \"toronto\", \"service\", \"far\", \"ready\", \"basket\", \"ring\", \"store\", \"james\", \"whether\", \"lily\", \"belt\", \"chromatique\", \"root\", \"cowie\", \"lane\", \"pulley\", \"snail\", \"bush\", \"grunfeld\", \"abbs\", \"assist\", \"corelli\", \"harold\", \"jarvis\", \"marie\", \"leorena\", \"delibe\", \"bal\", \"kullak\", \"masque\", \"national\", \"lizard\", \"corset\", \"sister\", \"globe\", \"fern\", \"decew\", \"valse\", \"raining\", \"stamp\", \"eckhardt\", \"etude\", \"lesson\", \"christian\", \"deer\", \"wide\", \"uncle_horace\", \"world\", \"kitten\", \"early\", \"dexter\", \"yet\", \"color\", \"afraid\", \"lb\", \"magazine\", \"inksater\", \"window\", \"snowy\", \"order\", \"jack\", \"freeman\", \"twin\", \"collar\", \"aquarium\", \"treat\", \"corticelli\", \"missionary\", \"spring\", \"bhelma\", \"cap\", \"harden\", \"marmaduke\", \"diary\", \"cousin\", \"aunt_lillie\", \"ride\", \"uncle\", \"birdsall\", \"leave\", \"post\", \"dress\", \"hat\", \"boyle\", \"paint\", \"kitchen\", \"murphy\", \"set\", \"ross\", \"sid\", \"anderson\", \"coat\", \"floor\", \"ebony\", \"silk\", \"cadet\", \"elect\", \"collegiate\", \"month\", \"stand\", \"recite\", \"cincinnati\", \"medicine\", \"brush\", \"bright\", \"handle\", \"race\", \"kilmer\", \"carpet\", \"cheap\", \"grit\", \"joseph\", \"transfer\", \"pays\", \"fix\", \"teapot\", \"demill\", \"collect\", \"jessie\", \"quite\", \"run\", \"hurrah\", \"surprise\", \"name\", \"penwiper\", \"invite\", \"parlor\", \"exercise\", \"life\", \"pedro\", \"other\", \"kimberley\", \"matin\", \"cool\", \"cartwright\", \"depot\", \"disagreeable\", \"gibson\", \"holden\", \"richard\", \"wilfrid\", \"andrew\", \"sweeping\", \"wishbone\", \"porcupine\", \"size\", \"beamsville\", \"damp\", \"peter\", \"sir\", \"foot\", \"tom\", \"evening\", \"york\", \"eva\", \"ticket\", \"tuesday\"], \"Freq\": [631.0, 142.0, 90.0, 350.0, 79.0, 57.0, 51.0, 171.0, 243.0, 29.0, 14.0, 33.0, 116.0, 197.0, 20.0, 124.0, 19.0, 344.0, 123.0, 39.0, 14.0, 16.0, 48.0, 16.0, 21.0, 31.0, 13.0, 26.0, 16.0, 15.0, 124.16644670899296, 56.07379920456423, 50.26820248575586, 45.771766738636344, 40.00222357752623, 39.57261532932391, 73.72197027205155, 35.36098124703785, 34.855090342889135, 35.02037488187031, 33.497033028207625, 33.18136725032798, 32.26144733412778, 28.900195336517246, 38.360342161464644, 27.95658313431626, 28.020393679586267, 27.637937423233048, 27.60462940155344, 27.17731243125947, 26.41391714064143, 26.128486782583327, 25.395103416796562, 24.7527206697299, 24.922186200358276, 24.15060881265752, 24.123833022604018, 23.915361256560434, 23.581712308610246, 23.41673484811163, 342.47950757051956, 88.39802500953542, 55.96798613738348, 137.20768101848174, 181.22337312025692, 146.60262545130917, 49.82189934348381, 57.72230188684155, 311.08546064691154, 139.74922970715392, 111.04419455701604, 68.44165946166925, 44.2480033334473, 163.729726125634, 197.8534936175247, 455.16031778358257, 102.22857094335103, 73.6528648942479, 124.74975773139626, 50.37250014788065, 83.14053612661456, 41.47119982054826, 45.30741683015831, 51.2144160557984, 32.666171138279026, 25.52889948580476, 21.823016866633832, 16.99995036670703, 16.987256423880005, 16.18886227875757, 15.040710213712032, 55.118700549707306, 13.86887335576687, 13.345440444423467, 13.086447813005208, 12.870583335727822, 11.73509148890031, 11.076235161816294, 10.327117167055151, 9.555609404379924, 9.20542711646026, 8.570266261735386, 7.450811590640278, 7.416841916149755, 7.270196074688088, 6.93762533966424, 6.754433825661385, 6.668240469983104, 6.595959077593506, 6.557238729848733, 6.5566142625054455, 6.405243041246277, 6.182095172578855, 29.027870387233758, 120.57880513499515, 20.629763757821014, 15.712305449768401, 14.728140420131542, 7.300726963214401, 13.115065392047674, 8.582957956255141, 10.08239566601141, 11.080882412936283, 149.36298374591325, 25.35151253908736, 21.490462993914484, 46.6574299759477, 22.639228846843796, 33.122175066390895, 45.419012870764135, 33.172206647993754, 12.545988470732112, 29.10648020250192, 20.412080399964978, 16.9104317645815, 16.86013038610665, 13.294325178718125, 19.70021835815358, 10.846885989092435, 10.394852846419997, 9.304808804436567, 9.140068062226788, 8.383633656586687, 7.770161989031851, 7.323321231995787, 6.872202245294679, 6.48532616522651, 5.9505586115227205, 5.468742642498737, 5.46730929866571, 5.13825928775231, 4.727609575216228, 4.694739507761285, 4.538731667631469, 4.53516985637324, 4.497282831993005, 4.405810955707125, 4.373405318019091, 4.3698784910991995, 4.251964032243866, 4.2440862183755765, 4.088111334506513, 3.928884428230291, 3.9282645970184498, 3.7728887565659828, 3.7727080041512413, 3.763861276216835, 7.822417943100086, 12.453229910292862, 6.879353753877927, 8.96333833937472, 23.91354142817508, 8.928173502132626, 12.724341293745539, 6.498565455699802, 6.361417723069429, 7.618483080506697, 26.954806012724383, 8.042284876179925, 5.351448268364942, 9.109880127377686, 7.75974983871171, 5.271688540131032, 12.659790895241763, 8.428426784323564, 7.19322552693051, 6.832121320511635, 6.530267231605143, 6.421378137433719, 5.460200505384609, 5.320813184626848, 5.205309836648355, 5.070443325095626, 4.79274268300867, 4.543847586856891, 3.857852408449472, 3.4407872265024864, 3.4392120473238337, 3.299513887211503, 3.155811684574255, 3.04363015118336, 2.908277147564607, 2.628498048308331, 2.6275940063667864, 2.5166504349183914, 2.5157976499967423, 5.201908888416006, 2.376485416276898, 2.3756056539763564, 2.3416709589421285, 2.2656959156368432, 2.2643376046096186, 2.2609868642768745, 3.70318899701965, 6.25824772576424, 3.861338785048313, 4.112372887597593, 4.2601061101386515, 7.4991166307139, 3.2988028834033654, 3.637581210548327, 3.2962571180819005, 3.3873711170498777, 3.604925692896573, 3.230120874732944, 3.2967924691785844, 9.325843405226788, 7.991943503679419, 4.402506838074043, 4.144139568812998, 4.041323973085568, 3.7781809813922385, 3.4212218709167392, 3.421566422319786, 3.1622649216425196, 3.038019857122339, 2.930914510717668, 2.5410038154070977, 2.470209858563728, 2.414798364825675, 2.1850725737627035, 1.8483676432455554, 1.8483676432455554, 1.7969718446844338, 1.7950845258050563, 1.795602102866039, 1.690003097483396, 1.6908067293472817, 1.6660075992583137, 1.6657988971024877, 1.5631614695912475, 1.4337940956397595, 1.4325980222990824, 1.309326294065184, 1.309326294065184, 1.309326294065184, 8.078547613056266, 3.551194245419535, 4.1419921221952505, 2.477327373461126, 2.2587039371229576, 3.539115661719432, 2.2754431785144025, 3.787254596885667, 3.9006471493029053, 2.7076970556722046, 2.863876978405902, 2.8257646220892454, 2.3436757128005428, 1.9624679402425604, 1.9173173501349283, 13.522617865177523, 5.337979383373892, 4.376572933152138, 3.9434592848846584, 3.4076142471495516, 3.407394245164271, 3.1808026917496095, 2.9787776027953337, 2.644070333868668, 2.641633780089493, 2.214486413984968, 1.9013770133661512, 1.676548655053173, 1.5630398706433306, 1.339416595459262, 1.3388850299688158, 1.1616249477289837, 1.1412101464554187, 1.1412101464554187, 1.1412101464554187, 1.1412101464554187, 1.1412101464554187, 1.1380756745285752, 1.1379070964177445, 1.137449845181719, 1.137449845181719, 1.137449845181719, 1.0256756428985963, 1.0256583956331315, 1.0253841084759052, 2.023423432622399, 2.0739555360189215, 2.5968409625878754, 1.8873051522787505, 3.5173478674348098, 1.4086390120243535, 2.6771710949950474, 1.9115244459762377, 1.605747756035889, 1.6121836089102008, 1.1893413033304998, 6.209487018282182, 5.803892435190168, 5.363829534237554, 4.560466492136116, 4.559058541260637, 4.478796761703894, 3.743247012294828, 3.0218847569461977, 2.7480778076608177, 2.621196848632461, 2.6204394722422055, 2.5077776632405957, 2.210218384466277, 2.102826554230146, 2.107172888819696, 5.420600219989965, 1.911285917209391, 1.8082728171545024, 1.5950342341033776, 1.4848026861790162, 1.4834442902040712, 1.4825373615617552, 1.40252897766058, 1.400139543904369, 1.1026993448164086, 1.0835366866674048, 1.0835366866674048, 1.0835366866674048, 1.0835366866674048, 1.083186030274221, 1.591550894408506, 3.624570569694039, 2.923889127551677, 1.6644286979354843, 1.2648141339748131, 1.7731839535991518, 2.1394943700490883, 1.4607947421583662, 7.600273647630844, 5.512653760112174, 5.039483190871409, 4.315032944861755, 3.9233545769579763, 3.92222637058567, 3.8949312433053067, 3.3646153295810124, 3.3213949334998314, 3.036173395528106, 3.0335771791579145, 2.6633367740664835, 2.245872123650683, 2.042644908854084, 2.041890048954516, 2.039840580993034, 1.8287459643142676, 1.5420880632917606, 1.441118259801236, 1.4372872291401555, 1.4366634780214436, 1.3593479445097527, 1.355240549955766, 1.3548847040989371, 1.3333978854005093, 1.333000621419361, 1.2310019275518171, 1.1496611794616818, 1.0491747575664274, 1.0491747575664274, 1.3962603894247787, 1.2775850669800308, 2.5324315837086986, 1.595026259710619, 1.7468958753819295, 1.7562197660231749, 1.4112853973755128, 4.700907736369666, 2.3732555322464095, 1.907182793540144, 1.907099013708349, 1.7343547335116178, 1.656190631398642, 1.5039601006542074, 1.4189187049000476, 1.4182252788890521, 1.4180162109944474, 1.100569370998577, 1.1003917921068112, 0.9311633067876266, 0.9308600581481683, 2.3155432512134806, 0.85087484203769, 0.85087484203769, 0.85087484203769, 0.85087484203769, 0.85087484203769, 0.85087484203769, 0.85087484203769, 0.8507646305277548, 0.8507646305277548, 0.8507646305277548, 0.8484248067744009, 0.847838347951836, 0.8476192608290556, 0.7646532766256257, 0.6970044021939061, 1.584493702520182, 1.3562750551801432, 2.009146856525903, 1.6496704993866251, 0.9648959487891506, 2.0294528739806847, 0.9279186035981546, 0.877022832888809], \"Total\": [631.0, 142.0, 90.0, 350.0, 79.0, 57.0, 51.0, 171.0, 243.0, 29.0, 14.0, 33.0, 116.0, 197.0, 20.0, 124.0, 19.0, 344.0, 123.0, 39.0, 14.0, 16.0, 48.0, 16.0, 21.0, 31.0, 13.0, 26.0, 16.0, 15.0, 124.96010746985273, 56.62626353772001, 50.82068586883552, 46.331848742224416, 40.55470267579373, 40.12511428121148, 74.86574036336745, 35.91534844824727, 35.40788238077717, 35.576582975407604, 34.049484958539125, 33.73387190927132, 32.81395841329079, 29.45266384513488, 39.11142063064208, 28.509074595843728, 28.579474339846392, 28.190350362864763, 28.15705004394705, 27.72982764503966, 26.966412702706258, 26.680968822669165, 25.947576279797435, 25.30652957246283, 25.488685717775162, 24.703020942991394, 24.676267056796522, 24.467975055498226, 24.134620306408365, 23.9694139779774, 350.770132977643, 90.9347743905708, 57.610057187384974, 142.63444901259575, 189.50021013604874, 153.6318785379512, 51.483790900764895, 59.84482930349727, 344.539223698545, 157.15382607962547, 123.21261420180642, 74.3524350618638, 46.676478274954064, 197.53238169543962, 243.9494851213634, 631.8432925574982, 123.10452814919708, 86.80671251509355, 171.85891694441233, 58.20579991295851, 116.71429369220215, 59.498055999634985, 79.43283013041534, 51.774662829034966, 33.22640958852684, 26.089106356386104, 22.38333917026825, 17.560386353978593, 17.547821599739777, 16.749161926441516, 15.600899159758464, 57.25878329905474, 14.429224151513449, 13.906109164290983, 13.646641675451, 13.430977103961736, 12.296208473131774, 11.636461279178182, 10.887542885549758, 10.115954427287134, 9.766977285736052, 9.130975326504707, 8.011227962051805, 7.977332417838694, 7.8305159775288375, 7.498604516990774, 7.314676507695993, 7.228481309875815, 7.156167947393521, 7.117406977696858, 7.1168805202555525, 6.966185202514839, 6.742527798657645, 31.767519174687834, 142.2583571104654, 23.499667381342178, 17.780111797171855, 17.095838839089723, 8.028187829581707, 15.899489451581923, 9.816102364802978, 12.24711177649415, 13.971116578539723, 631.8432925574982, 48.6591020009497, 40.25475983631245, 171.85891694441233, 51.97203163802779, 116.71429369220215, 243.9494851213634, 197.53238169543962, 20.63831030701635, 344.539223698545, 123.10452814919708, 59.498055999634985, 157.15382607962547, 39.764303887168566, 20.275189139341474, 11.421696227730447, 10.969636771229045, 9.880036333269711, 9.715199266877063, 8.958416981134512, 8.34520195306657, 7.898368615901481, 7.446992692540683, 7.059948134795455, 6.525637004128581, 6.043412313495505, 6.042247368920348, 5.71298925860827, 5.302701213120445, 5.269760492101296, 5.113880956227195, 5.110016488837666, 5.072053915235537, 4.981036663766625, 4.948374518612207, 4.946017347062383, 4.826815444463918, 4.818743916028838, 4.662970485620215, 4.503485123054222, 4.504135013479212, 4.347536592135731, 4.347381675483894, 4.338502484665168, 9.360325246175016, 15.644244347578791, 8.541589847342784, 13.108303970313424, 79.43283013041534, 16.92641389071499, 39.764303887168566, 11.396801948540375, 12.176817666901822, 20.63831030701635, 631.8432925574982, 27.889990129103825, 8.49261615649654, 123.21261420180642, 350.770132977643, 21.912440146352893, 13.245896995580845, 9.014109958489492, 7.779138275118671, 7.417707099939193, 7.115933790914974, 7.007495141925104, 6.046270870344039, 5.906606394479104, 5.791143694353321, 5.655940498928392, 5.378579020177935, 5.129089512499663, 4.443315017163236, 4.026344316109221, 4.0251536072456355, 3.8855528561476005, 3.7413636568910884, 3.629381538485048, 3.493919187184243, 3.2138920883517814, 3.2131634529284554, 3.10215509975194, 3.101571705217969, 6.48097297746574, 2.9619595940299988, 2.961374027958276, 2.927576673265086, 2.851221483031917, 2.850068597825468, 2.8466219689262067, 4.857249328731647, 8.881603527272393, 5.415492223244123, 5.905149483091237, 6.69351972984315, 16.92641389071499, 5.59033185077581, 9.628661840098406, 8.39178522086562, 9.46231423323938, 14.57000338734065, 7.908937726333967, 48.6591020009497, 9.917659067560596, 8.5835818378333, 4.9943424526800015, 4.736219318747236, 4.633307007812815, 4.369718872486206, 4.0129464994802975, 4.013971189057953, 3.7541916800719513, 3.6297148789621883, 3.522723967566401, 3.1327664787923033, 3.0618192079749766, 3.006503770176362, 2.7765760894082003, 2.439862338929989, 2.439862338929989, 2.3889409941247335, 2.386441471534113, 2.387989763377488, 2.2822276996982067, 2.283862012249221, 2.2573641064153165, 2.2572243214640935, 2.154763814551874, 2.0254553029048203, 2.024616427356114, 1.9007156682669386, 1.9007156682669386, 1.9007156682669386, 19.22235090079697, 6.863778254231315, 8.939748907342803, 4.524167196430446, 3.964633851793239, 7.867572841014145, 5.006831042046494, 21.972625982663732, 29.02660570181342, 9.71220181422166, 13.108303970313424, 13.398874716487441, 11.579574555421537, 8.433127958684471, 6.69351972984315, 14.123345798715174, 5.93871588196234, 4.977186140369974, 4.544137828297103, 4.008425260155315, 4.008194566630094, 3.781156983668212, 3.579286845401734, 3.24462458044816, 3.242092937869402, 2.8150939165482374, 2.5026111709545873, 2.276959153126983, 2.163724391319569, 1.9397354181539674, 1.939330705250278, 1.761902658162482, 1.7415452570540846, 1.7415452570540846, 1.7415452570540846, 1.7415452570540846, 1.7415452570540846, 1.738379761773379, 1.738242615732847, 1.7379411662373014, 1.7379411662373014, 1.7379411662373014, 1.6259604327867776, 1.6259578243163373, 1.6257615024001082, 3.502540178807606, 4.872866495586932, 6.9544605536557205, 4.295425065033375, 16.47970158012791, 2.736639231611462, 15.644244347578791, 8.574983625910134, 9.628661840098406, 57.25878329905474, 4.427330405303809, 6.822159891206817, 6.407301019367169, 5.967374149233994, 5.164041853306715, 5.163023843981329, 5.082378511380729, 4.347170717577755, 3.6257014114860615, 3.3522422327181283, 3.224694265789272, 3.224081187107268, 3.1113313912013787, 2.8136296304429744, 2.7064584503444244, 2.7145670506415165, 7.127902383151386, 2.5150230277474566, 2.4117821718300063, 2.1984349304593693, 2.0883232148490323, 2.0875295556815505, 2.086829797074614, 2.0064320309215917, 2.00375040558526, 1.7061074384875996, 1.686929127654617, 1.686929127654617, 1.686929127654617, 1.686929127654617, 1.6866188720861761, 2.7334915429194466, 8.939748907342803, 7.9223566129285405, 4.065256643421658, 2.364780849577182, 6.217271324807619, 11.61992615490023, 8.39178522086562, 8.205878971746511, 6.118088345939063, 5.644810173126261, 4.920576108350224, 4.528873941580797, 4.527967931625748, 4.500669771920095, 3.9700463554444463, 3.9269282824541794, 3.6415295518254753, 3.6388312252582202, 3.2685804607408864, 2.8513536120974, 2.647978291792655, 2.647367824986529, 2.6451115565690415, 2.4344774366994635, 2.14781167220326, 2.046376393079829, 2.0428677672740294, 2.0423785261945846, 1.964603638987432, 1.9609048086343979, 1.9616181618630684, 1.9390193365225787, 1.9387365398848646, 1.836356311455349, 1.7548562194523305, 1.6544120946655079, 1.6544120946655079, 2.8700650487886286, 2.489837034439115, 16.27919310195899, 4.622237914139309, 7.166171584107809, 11.640257066892227, 4.364029190063402, 5.317367944187504, 2.989210969480144, 2.523198607905023, 2.523330689549514, 2.3506606176665885, 2.272060245663666, 2.119768591559161, 2.0351858135651084, 2.0347347918500227, 2.03447776715267, 1.716780721974084, 1.7169260660468517, 1.5474629206926196, 1.547132223513473, 3.9897595861823945, 1.466624437208459, 1.466624437208459, 1.466624437208459, 1.466624437208459, 1.466624437208459, 1.466624437208459, 1.466624437208459, 1.4665456240322423, 1.4665456240322423, 1.4665456240322423, 1.464188210164517, 1.4638149062036327, 1.4636335017713606, 1.3803874338958793, 1.3133079173386921, 4.305870156420645, 3.6503340999659906, 14.345656306146108, 12.24711177649415, 2.3063291998523416, 90.9347743905708, 2.859107979419943, 5.661731681891074], \"Category\": [\"Default\", \"Default\", \"Default\", \"Default\", \"Default\", \"Default\", \"Default\", \"Default\", \"Default\", \"Default\", \"Default\", \"Default\", \"Default\", \"Default\", \"Default\", \"Default\", \"Default\", \"Default\", \"Default\", \"Default\", \"Default\", \"Default\", \"Default\", \"Default\", \"Default\", \"Default\", \"Default\", \"Default\", \"Default\", \"Default\", \"Topic1\", \"Topic1\", \"Topic1\", \"Topic1\", \"Topic1\", \"Topic1\", \"Topic1\", \"Topic1\", \"Topic1\", \"Topic1\", \"Topic1\", \"Topic1\", \"Topic1\", \"Topic1\", \"Topic1\", \"Topic1\", \"Topic1\", \"Topic1\", \"Topic1\", \"Topic1\", \"Topic1\", \"Topic1\", \"Topic1\", \"Topic1\", \"Topic1\", \"Topic1\", \"Topic1\", \"Topic1\", \"Topic1\", \"Topic1\", \"Topic1\", \"Topic1\", \"Topic1\", \"Topic1\", \"Topic1\", \"Topic1\", \"Topic1\", \"Topic1\", \"Topic1\", \"Topic1\", \"Topic1\", \"Topic1\", \"Topic1\", \"Topic1\", \"Topic1\", \"Topic1\", \"Topic1\", \"Topic1\", \"Topic1\", \"Topic1\", \"Topic1\", \"Topic1\", \"Topic1\", \"Topic2\", \"Topic2\", \"Topic2\", \"Topic2\", \"Topic2\", \"Topic2\", \"Topic2\", \"Topic2\", \"Topic2\", \"Topic2\", \"Topic2\", \"Topic2\", \"Topic2\", \"Topic2\", \"Topic2\", \"Topic2\", \"Topic2\", \"Topic2\", \"Topic2\", \"Topic2\", \"Topic2\", \"Topic2\", \"Topic2\", \"Topic2\", \"Topic2\", \"Topic2\", \"Topic2\", \"Topic2\", \"Topic2\", \"Topic2\", \"Topic2\", \"Topic2\", \"Topic2\", \"Topic2\", \"Topic2\", \"Topic2\", \"Topic2\", \"Topic2\", \"Topic2\", \"Topic2\", \"Topic2\", \"Topic2\", \"Topic2\", \"Topic2\", \"Topic2\", \"Topic2\", \"Topic2\", \"Topic2\", \"Topic2\", \"Topic2\", \"Topic2\", \"Topic2\", \"Topic2\", \"Topic2\", \"Topic3\", \"Topic3\", \"Topic3\", \"Topic3\", \"Topic3\", \"Topic3\", \"Topic3\", \"Topic3\", \"Topic3\", \"Topic3\", \"Topic3\", \"Topic3\", \"Topic3\", \"Topic3\", \"Topic3\", \"Topic3\", \"Topic3\", \"Topic3\", \"Topic3\", \"Topic3\", \"Topic3\", \"Topic3\", \"Topic3\", \"Topic3\", \"Topic3\", \"Topic3\", \"Topic3\", \"Topic3\", \"Topic3\", \"Topic3\", \"Topic3\", \"Topic3\", \"Topic3\", \"Topic3\", \"Topic3\", \"Topic3\", \"Topic3\", \"Topic3\", \"Topic3\", \"Topic3\", \"Topic3\", \"Topic3\", \"Topic3\", \"Topic3\", \"Topic3\", \"Topic3\", \"Topic4\", \"Topic4\", \"Topic4\", \"Topic4\", \"Topic4\", \"Topic4\", \"Topic4\", \"Topic4\", \"Topic4\", \"Topic4\", \"Topic4\", \"Topic4\", \"Topic4\", \"Topic4\", \"Topic4\", \"Topic4\", \"Topic4\", \"Topic4\", \"Topic4\", \"Topic4\", \"Topic4\", \"Topic4\", \"Topic4\", \"Topic4\", \"Topic4\", \"Topic4\", \"Topic4\", \"Topic4\", \"Topic4\", \"Topic4\", \"Topic4\", \"Topic4\", \"Topic4\", \"Topic4\", \"Topic4\", \"Topic4\", \"Topic4\", \"Topic4\", \"Topic4\", \"Topic4\", \"Topic4\", \"Topic4\", \"Topic4\", \"Topic5\", \"Topic5\", \"Topic5\", \"Topic5\", \"Topic5\", \"Topic5\", \"Topic5\", \"Topic5\", \"Topic5\", \"Topic5\", \"Topic5\", \"Topic5\", \"Topic5\", \"Topic5\", \"Topic5\", \"Topic5\", \"Topic5\", \"Topic5\", \"Topic5\", \"Topic5\", \"Topic5\", \"Topic5\", \"Topic5\", \"Topic5\", \"Topic5\", \"Topic5\", \"Topic5\", \"Topic5\", \"Topic5\", \"Topic5\", \"Topic5\", \"Topic5\", \"Topic5\", \"Topic5\", \"Topic5\", \"Topic5\", \"Topic5\", \"Topic5\", \"Topic5\", \"Topic5\", \"Topic5\", \"Topic5\", \"Topic5\", \"Topic5\", \"Topic5\", \"Topic6\", \"Topic6\", \"Topic6\", \"Topic6\", \"Topic6\", \"Topic6\", \"Topic6\", \"Topic6\", \"Topic6\", \"Topic6\", \"Topic6\", \"Topic6\", \"Topic6\", \"Topic6\", \"Topic6\", \"Topic6\", \"Topic6\", \"Topic6\", \"Topic6\", \"Topic6\", \"Topic6\", \"Topic6\", \"Topic6\", \"Topic6\", \"Topic6\", \"Topic6\", \"Topic6\", \"Topic6\", \"Topic6\", \"Topic6\", \"Topic6\", \"Topic6\", \"Topic6\", \"Topic6\", \"Topic6\", \"Topic6\", \"Topic6\", \"Topic6\", \"Topic6\", \"Topic6\", \"Topic6\", \"Topic7\", \"Topic7\", \"Topic7\", \"Topic7\", \"Topic7\", \"Topic7\", \"Topic7\", \"Topic7\", \"Topic7\", \"Topic7\", \"Topic7\", \"Topic7\", \"Topic7\", \"Topic7\", \"Topic7\", \"Topic7\", \"Topic7\", \"Topic7\", \"Topic7\", \"Topic7\", \"Topic7\", \"Topic7\", \"Topic7\", \"Topic7\", \"Topic7\", \"Topic7\", \"Topic7\", \"Topic7\", \"Topic7\", \"Topic7\", \"Topic7\", \"Topic7\", \"Topic7\", \"Topic7\", \"Topic7\", \"Topic7\", \"Topic7\", \"Topic7\", \"Topic8\", \"Topic8\", \"Topic8\", \"Topic8\", \"Topic8\", \"Topic8\", \"Topic8\", \"Topic8\", \"Topic8\", \"Topic8\", \"Topic8\", \"Topic8\", \"Topic8\", \"Topic8\", \"Topic8\", \"Topic8\", \"Topic8\", \"Topic8\", \"Topic8\", \"Topic8\", \"Topic8\", \"Topic8\", \"Topic8\", \"Topic8\", \"Topic8\", \"Topic8\", \"Topic8\", \"Topic8\", \"Topic8\", \"Topic8\", \"Topic8\", \"Topic8\", \"Topic8\", \"Topic8\", \"Topic8\", \"Topic8\", \"Topic8\", \"Topic9\", \"Topic9\", \"Topic9\", \"Topic9\", \"Topic9\", \"Topic9\", \"Topic9\", \"Topic9\", \"Topic9\", \"Topic9\", \"Topic9\", \"Topic9\", \"Topic9\", \"Topic9\", \"Topic9\", \"Topic9\", \"Topic9\", \"Topic9\", \"Topic9\", \"Topic9\", \"Topic9\", \"Topic9\", \"Topic9\", \"Topic9\", \"Topic9\", \"Topic9\", \"Topic9\", \"Topic9\", \"Topic9\", \"Topic9\", \"Topic9\", \"Topic9\", \"Topic9\", \"Topic9\", \"Topic9\", \"Topic9\", \"Topic9\", \"Topic9\"], \"logprob\": [30.0, 29.0, 28.0, 27.0, 26.0, 25.0, 24.0, 23.0, 22.0, 21.0, 20.0, 19.0, 18.0, 17.0, 16.0, 15.0, 14.0, 13.0, 12.0, 11.0, 10.0, 9.0, 8.0, 7.0, 6.0, 5.0, 4.0, 3.0, 2.0, 1.0, -4.1408, -4.9357, -5.045, -5.1387, -5.2735, -5.2843, -4.6621, -5.3968, -5.4112, -5.4065, -5.4509, -5.4604, -5.4885, -5.5986, -5.3154, -5.6318, -5.6295, -5.6432, -5.6444, -5.66, -5.6885, -5.6994, -5.7278, -5.7535, -5.7466, -5.7781, -5.7792, -5.7879, -5.8019, -5.809, -3.1262, -4.4806, -4.9376, -4.0409, -3.7627, -3.9747, -5.0539, -4.9068, -3.2223, -4.0226, -4.2525, -4.7364, -5.1726, -3.8642, -3.6749, -2.8418, -4.3352, -4.663, -4.1361, -5.043, -4.5419, -5.2374, -5.1489, -3.8531, -4.3027, -4.5493, -4.7061, -4.9559, -4.9566, -5.0048, -5.0783, -3.7796, -5.1594, -5.1979, -5.2175, -5.2341, -5.3265, -5.3843, -5.4543, -5.532, -5.5693, -5.6408, -5.7808, -5.7853, -5.8053, -5.8521, -5.8789, -5.8917, -5.9026, -5.9085, -5.9086, -5.932, -5.9674, -4.4208, -2.9968, -4.7623, -5.0346, -5.0993, -5.8011, -5.2153, -5.6393, -5.4783, -5.3839, -2.7827, -4.5562, -4.7215, -3.9463, -4.6694, -4.2889, -3.9732, -4.2874, -5.2597, -4.4181, -4.773, -4.9612, -4.9641, -5.2017, -4.0122, -4.609, -4.6515, -4.7623, -4.7802, -4.8666, -4.9426, -5.0018, -5.0654, -5.1233, -5.2094, -5.2938, -5.2941, -5.3561, -5.4394, -5.4464, -5.4802, -5.481, -5.4894, -5.5099, -5.5173, -5.5181, -5.5455, -5.5473, -5.5848, -5.6245, -5.6246, -5.665, -5.6651, -5.6674, -4.9359, -4.4709, -5.0643, -4.7997, -3.8184, -4.8036, -4.4493, -5.1213, -5.1426, -4.9623, -3.6987, -4.9081, -5.3155, -4.7835, -4.9439, -5.3305, -3.9288, -4.3356, -4.4941, -4.5456, -4.5908, -4.6076, -4.7698, -4.7956, -4.8176, -4.8438, -4.9001, -4.9535, -5.1171, -5.2315, -5.232, -5.2735, -5.318, -5.3542, -5.3997, -5.5008, -5.5012, -5.5443, -5.5447, -4.8182, -5.6016, -5.602, -5.6164, -5.6494, -5.65, -5.6514, -5.158, -4.6333, -5.1162, -5.0532, -5.0179, -4.4525, -5.2737, -5.1759, -5.2745, -5.2472, -5.1849, -5.2947, -5.2743, -3.8988, -4.0531, -4.6494, -4.7099, -4.735, -4.8023, -4.9016, -4.9015, -4.9803, -5.0203, -5.0562, -5.199, -5.2272, -5.2499, -5.3499, -5.5172, -5.5172, -5.5454, -5.5465, -5.5462, -5.6068, -5.6063, -5.6211, -5.6212, -5.6848, -5.7712, -5.7721, -5.862, -5.862, -5.862, -4.0423, -4.8643, -4.7104, -5.2244, -5.3168, -4.8677, -5.3094, -4.7999, -4.7704, -5.1355, -5.0794, -5.0928, -5.2798, -5.4573, -5.4806, -3.2286, -4.1581, -4.3567, -4.4609, -4.6069, -4.607, -4.6758, -4.7414, -4.8606, -4.8616, -5.0379, -5.1904, -5.3162, -5.3863, -5.5407, -5.5411, -5.6831, -5.7009, -5.7009, -5.7009, -5.7009, -5.7009, -5.7036, -5.7038, -5.7042, -5.7042, -5.7042, -5.8076, -5.8076, -5.8079, -5.1282, -5.1035, -4.8787, -5.1978, -4.5752, -5.4903, -4.8482, -5.1851, -5.3594, -5.3554, -5.6596, -3.9349, -4.0025, -4.0813, -4.2436, -4.2439, -4.2616, -4.441, -4.6551, -4.7501, -4.7974, -4.7977, -4.8416, -4.9679, -5.0177, -5.0157, -4.0708, -5.1132, -5.1686, -5.2941, -5.3657, -5.3666, -5.3672, -5.4227, -5.4244, -5.6632, -5.6808, -5.6808, -5.6808, -5.6808, -5.6811, -5.2963, -4.4733, -4.6881, -5.2515, -5.5261, -5.1882, -5.0004, -5.382, -3.7186, -4.0398, -4.1295, -4.2847, -4.3798, -4.3801, -4.3871, -4.5335, -4.5464, -4.6362, -4.6371, -4.7672, -4.9377, -5.0326, -5.0329, -5.0339, -5.1432, -5.3137, -5.3814, -5.384, -5.3845, -5.4398, -5.4428, -5.4431, -5.4591, -5.4594, -5.539, -5.6073, -5.6988, -5.6988, -5.413, -5.5018, -4.8176, -5.2799, -5.189, -5.1836, -5.4023, -3.7748, -4.4583, -4.677, -4.677, -4.772, -4.8181, -4.9145, -4.9727, -4.9732, -4.9733, -5.2268, -5.2269, -5.3939, -5.3942, -4.483, -5.4841, -5.4841, -5.4841, -5.4841, -5.4841, -5.4841, -5.4841, -5.4842, -5.4842, -5.4842, -5.487, -5.4877, -5.4879, -5.5909, -5.6836, -4.8623, -5.0179, -4.6249, -4.822, -5.3583, -4.6148, -5.3974, -5.4538], \"loglift\": [30.0, 29.0, 28.0, 27.0, 26.0, 25.0, 24.0, 23.0, 22.0, 21.0, 20.0, 19.0, 18.0, 17.0, 16.0, 15.0, 14.0, 13.0, 12.0, 11.0, 10.0, 9.0, 8.0, 7.0, 6.0, 5.0, 4.0, 3.0, 2.0, 1.0, 0.5482, 0.5447, 0.5436, 0.5424, 0.5408, 0.5407, 0.5391, 0.539, 0.5388, 0.5388, 0.5382, 0.538, 0.5376, 0.5356, 0.5351, 0.535, 0.5348, 0.5347, 0.5347, 0.5344, 0.5338, 0.5336, 0.533, 0.5324, 0.5321, 0.5319, 0.5319, 0.5317, 0.5314, 0.5312, 0.5306, 0.5262, 0.5256, 0.5157, 0.5099, 0.5077, 0.5217, 0.5184, 0.4524, 0.4372, 0.4506, 0.4717, 0.5011, 0.3669, 0.3451, 0.2265, 0.3687, 0.3902, 0.2342, 0.41, 0.2153, 0.1936, -0.0069, 1.717, 1.7109, 1.7062, 1.7025, 1.6954, 1.6954, 1.6938, 1.6913, 1.6898, 1.6883, 1.6867, 1.6859, 1.6852, 1.6812, 1.6785, 1.675, 1.6709, 1.6686, 1.6645, 1.6553, 1.655, 1.6536, 1.6501, 1.6482, 1.6472, 1.6463, 1.6459, 1.6459, 1.6439, 1.6411, 1.6377, 1.5625, 1.5976, 1.6042, 1.5788, 1.6329, 1.5353, 1.5936, 1.5334, 1.4961, 0.2856, 1.0759, 1.1002, 0.424, 0.8968, 0.4683, 0.0468, -0.0563, 1.2301, -0.7434, -0.069, 0.4698, -0.5044, 0.6322, 2.4953, 2.4725, 2.4703, 2.4641, 2.4631, 2.4578, 2.4527, 2.4485, 2.4438, 2.4392, 2.4318, 2.4242, 2.4241, 2.4181, 2.4093, 2.4086, 2.4048, 2.4048, 2.4038, 2.4014, 2.4006, 2.4002, 2.3973, 2.3971, 2.3925, 2.3876, 2.3873, 2.3823, 2.3823, 2.382, 2.3446, 2.296, 2.3077, 2.144, 1.3236, 1.8844, 1.3846, 1.9623, 1.8748, 1.5275, -0.6304, 1.2805, 2.0623, -0.0805, -1.2871, 1.0994, 3.0044, 2.9825, 2.9714, 2.9675, 2.9638, 2.9624, 2.9477, 2.9453, 2.9431, 2.9404, 2.9344, 2.9285, 2.9084, 2.8925, 2.8924, 2.8862, 2.8795, 2.8737, 2.8662, 2.8486, 2.8485, 2.8405, 2.8404, 2.8299, 2.8295, 2.8293, 2.8264, 2.8198, 2.8196, 2.8194, 2.7784, 2.6996, 2.7115, 2.6879, 2.5979, 2.2356, 2.5222, 2.0763, 2.1152, 2.0224, 1.653, 2.1542, 0.3578, 3.3239, 3.314, 3.2593, 3.2518, 3.2487, 3.2399, 3.2259, 3.2257, 3.2138, 3.2074, 3.2015, 3.176, 3.1707, 3.1662, 3.1458, 3.1078, 3.1078, 3.1006, 3.1006, 3.1003, 3.085, 3.0847, 3.0816, 3.0816, 3.0644, 3.0399, 3.0395, 3.0127, 3.0127, 3.0127, 2.5185, 2.7264, 2.6161, 2.7831, 2.8228, 2.5865, 2.5968, 1.6272, 1.3783, 2.1081, 1.8643, 1.829, 1.7879, 1.9274, 2.1352, 3.6405, 3.5773, 3.5554, 3.5422, 3.5216, 3.5216, 3.5111, 3.5003, 3.4793, 3.4792, 3.444, 3.4092, 3.3779, 3.3588, 3.3137, 3.3135, 3.2674, 3.2613, 3.2613, 3.2613, 3.2613, 3.2613, 3.2604, 3.2603, 3.2601, 3.2601, 3.2601, 3.2232, 3.2232, 3.2231, 3.1353, 2.8298, 2.6989, 2.8616, 2.1396, 3.0199, 1.9186, 2.183, 1.8928, 0.114, 2.3696, 3.6618, 3.657, 3.6493, 3.6316, 3.6315, 3.6295, 3.6064, 3.5738, 3.5572, 3.5487, 3.5486, 3.5403, 3.5146, 3.5036, 3.5027, 3.4821, 3.4814, 3.4679, 3.4351, 3.4149, 3.4143, 3.414, 3.3979, 3.3975, 3.3195, 3.3133, 3.3133, 3.3133, 3.3133, 3.3131, 3.2151, 2.8532, 2.7592, 2.8629, 3.1302, 2.5014, 2.0638, 2.0077, 3.6935, 3.6659, 3.6567, 3.6388, 3.6266, 3.6265, 3.6256, 3.6047, 3.6027, 3.5883, 3.5882, 3.5654, 3.5314, 3.5106, 3.5105, 3.5103, 3.484, 3.4388, 3.4195, 3.4185, 3.4184, 3.4019, 3.4007, 3.4001, 3.3957, 3.3955, 3.3702, 3.3472, 3.3147, 3.3147, 3.0496, 3.1029, 1.9094, 2.7062, 2.3586, 1.8788, 2.6413, 4.0711, 3.9636, 3.9144, 3.9143, 3.8903, 3.8782, 3.8511, 3.8337, 3.8334, 3.8334, 3.7497, 3.7495, 3.6864, 3.6863, 3.6503, 3.6499, 3.6499, 3.6499, 3.6499, 3.6499, 3.6499, 3.6499, 3.6498, 3.6498, 3.6498, 3.6487, 3.6482, 3.6481, 3.6036, 3.5608, 3.1946, 3.2043, 2.2286, 2.1896, 3.323, 0.392, 3.069, 2.3294]}, \"token.table\": {\"Topic\": [6, 7, 1, 2, 3, 5, 8, 9, 5, 3, 4, 5, 3, 7, 3, 6, 3, 4, 5, 6, 7, 5, 2, 2, 1, 3, 6, 1, 4, 6, 2, 5, 9, 1, 2, 6, 7, 2, 5, 7, 4, 1, 2, 3, 8, 8, 1, 4, 8, 6, 1, 8, 1, 3, 1, 2, 4, 4, 7, 4, 8, 9, 5, 2, 4, 3, 3, 8, 4, 6, 6, 1, 2, 8, 2, 1, 5, 4, 8, 7, 1, 8, 8, 4, 7, 1, 2, 3, 2, 3, 1, 5, 8, 9, 6, 6, 7, 6, 7, 6, 3, 4, 9, 5, 3, 5, 1, 3, 3, 6, 7, 6, 2, 8, 9, 3, 7, 7, 1, 9, 2, 4, 5, 1, 3, 4, 7, 1, 2, 3, 5, 2, 4, 1, 7, 8, 1, 6, 8, 5, 5, 3, 4, 6, 1, 9, 2, 9, 9, 4, 5, 3, 6, 2, 4, 1, 2, 5, 1, 8, 3, 8, 5, 1, 9, 5, 5, 5, 7, 3, 4, 1, 3, 9, 1, 2, 3, 1, 6, 1, 2, 3, 2, 1, 2, 5, 3, 4, 8, 6, 2, 4, 8, 7, 6, 8, 4, 2, 3, 4, 5, 5, 5, 2, 9, 4, 1, 2, 3, 3, 9, 4, 2, 4, 7, 9, 7, 4, 6, 6, 3, 8, 8, 3, 3, 8, 9, 4, 8, 7, 6, 5, 6, 4, 7, 4, 5, 7, 5, 1, 3, 6, 2, 6, 1, 9, 6, 1, 4, 6, 2, 3, 3, 4, 2, 4, 3, 3, 2, 7, 1, 2, 3, 6, 7, 3, 6, 9, 2, 2, 1, 3, 5, 8, 1, 1, 2, 7, 3, 8, 5, 1, 2, 2, 3, 1, 2, 2, 1, 1, 2, 2, 3, 1, 1, 4, 5, 2, 8, 1, 9, 6, 1, 3, 1, 1, 2, 1, 4, 4, 5, 1, 1, 5, 7, 9, 3, 8, 3, 4, 1, 2, 9, 3, 8, 9, 9, 1, 4, 9, 4, 1, 1, 3, 3, 1, 1, 4, 3, 1, 2, 4, 9, 2, 1, 7, 1, 3, 5, 1, 6, 4, 9, 8, 1, 5, 1, 6, 4, 1, 2, 5, 4, 6, 8, 2, 3, 5, 9, 3, 7, 4, 3, 6, 6, 4, 8, 4, 9, 2, 1, 1, 5, 1, 2, 3, 5, 2, 1, 3, 5, 8, 5, 4, 8, 8, 2, 3, 1, 9, 3, 6, 9, 6, 1, 2, 5, 7, 2, 7, 1, 2, 3, 2, 3, 6, 8, 1, 6, 4, 3, 5, 5, 4, 2, 2, 9, 9, 3, 1, 2, 2, 1, 3, 8, 2, 3, 5, 2, 9, 5, 2, 4, 1, 9, 1, 3, 4, 5, 2, 4, 8, 7, 5, 3, 2, 4, 9, 4, 8, 7, 1, 7, 7, 1, 1, 6, 3, 3, 2, 2, 1, 2, 1, 2, 3, 2, 5, 2, 5, 7, 5, 3, 4, 2, 4, 1, 3, 3, 6, 7, 9, 4, 3, 7, 9, 7, 2, 7, 1, 9], \"Freq\": [0.5675682452530703, 0.9303207537616668, 0.9604972778203239, 0.014021858070369691, 0.021032787105554538, 0.8380679031337438, 0.7639558922948079, 0.681874456282183, 0.5261176180610928, 0.8546711561405522, 0.10683389451756903, 0.6532064319116864, 0.9263834691157125, 0.479035133791681, 0.9116072125767929, 0.5742027064467751, 0.5317133362157098, 0.4135548170566632, 0.447439860051834, 0.1118599650129585, 0.447439860051834, 0.49392071825964096, 0.9759105846506252, 0.8613035435569472, 0.9782452512049283, 0.9200612611830822, 0.5753934709798216, 0.6863416386497644, 0.27453665545990574, 0.8419328520474433, 0.25223010179053257, 0.5044602035810651, 0.6832311495943153, 0.5579924256565099, 0.4425457168999906, 0.8381557918036279, 0.592793131380882, 0.9335070257591254, 0.42287216601013916, 0.42287216601013916, 0.8998425985548142, 0.8590209235981716, 0.06872167388785373, 0.06872167388785373, 0.9806984895833605, 0.5099686612000377, 0.9720524980187395, 0.017358080321763204, 0.5090085247502676, 0.5155342273183283, 0.9968818959533764, 0.7552932009295362, 0.96917312113731, 0.016709881398919137, 0.4110227928088285, 0.5137784910110356, 0.06165341892132427, 0.8465097665342137, 0.592793131380882, 0.8586346275563707, 0.5445566275792524, 0.6818378138464529, 0.6652245108884994, 0.8998818557791631, 0.11248523197239539, 0.9630793693578874, 0.9488097243687577, 0.5698472552424197, 0.6776092419951514, 0.2258697473317171, 0.9246061988427728, 0.14761874399894298, 0.8505651439939095, 0.48950794369543765, 0.9453045677798078, 0.9691776554089718, 0.8860439704560461, 0.675228657416906, 0.8238296455664129, 0.478853078340314, 0.7731788008014212, 0.1718175112892047, 0.7561117772265863, 0.9336593185963884, 0.8949233950696586, 0.9551440595767882, 0.03166223401912005, 0.01055407800637335, 0.8176363171653013, 0.12579020264081558, 0.9808739769254805, 0.9153906959978299, 0.2506416686016039, 0.5012833372032078, 0.5742027064467751, 0.6150963708537213, 0.49839714706940824, 0.3658324835832386, 0.7316649671664772, 0.7104558708479343, 0.8300918392227884, 0.9748318854281895, 0.7244342968102017, 0.7991067733500766, 0.4420703111012329, 0.4420703111012329, 0.9923166881871932, 0.9109278241916676, 0.46561166117897584, 0.46561166117897584, 0.879486862765191, 0.5752936850983819, 0.6977226181812812, 0.2790890472725125, 0.6818378138464529, 0.8882010022689354, 0.9201386970670435, 0.5929021763897979, 0.9821434191372194, 0.6818378138464529, 0.9184808827042391, 0.7025871442826086, 0.9281759729271952, 0.9884804638585615, 0.3574924668639872, 0.3574924668639872, 0.11916415562132907, 0.5665163878224857, 0.11330327756449712, 0.3021420735053257, 0.012589253062721904, 0.7873386452802567, 0.14315248096004665, 0.9634811255749074, 0.7870330773363278, 0.9178296315581573, 0.6997097909167344, 0.23323659697224478, 0.7554673669157315, 0.826511199925919, 0.7203116124313669, 0.41542636624147133, 0.41542636624147133, 0.20771318312073567, 0.9677265995298372, 0.021993786352950847, 0.8165190440404876, 0.1633038088080975, 0.491464540737901, 0.5975929199350747, 0.29879645996753734, 0.5751704203566641, 0.43137781526749813, 0.22518456198350648, 0.6755536859505195, 0.9878873327302699, 0.3994542622278141, 0.3994542622278141, 0.798565378429943, 0.1842843180992176, 0.849864600340132, 0.8244405454081242, 0.5261176180610928, 0.5478950543235573, 0.27394752716177867, 0.8516137022431781, 0.8445554841953621, 0.9074722108000121, 0.829262287183442, 0.2058778399710286, 0.8235113598841144, 0.9749974922231991, 0.022806958882414012, 0.6818378138464529, 0.6890981446562141, 0.28572362095501563, 0.016807271820883273, 0.41043603427495545, 0.41043603427495545, 0.7201152649073894, 0.2358179658707715, 0.04273211462087805, 0.9885374703770556, 0.9863221121301718, 0.5084160109897874, 0.5084160109897874, 0.9194504683916642, 0.8265871108310756, 0.6044443238927009, 0.5156418125556086, 0.9214723999761762, 0.9436878412275652, 0.5097832082928102, 0.592793131380882, 0.5742027064467751, 0.9749107959725742, 0.8269560043239503, 0.42272956714423315, 0.10568239178605829, 0.3170471753581749, 0.10568239178605829, 0.8763367477594249, 0.8757096485134562, 0.9687812189891479, 0.6818378138464529, 0.9002287671590155, 0.8524686381497655, 0.12671831107631648, 0.023039692922966634, 0.921977114024566, 0.7926446985719338, 0.7450927601986586, 0.9168608542908815, 0.10187342825454239, 0.7108256105780072, 0.9434992140009646, 0.7952213470551284, 0.863387314128515, 0.7484235841492922, 0.5742027064467751, 0.45829207663272836, 0.22914603831636418, 0.6044443238927009, 0.9429156573311216, 0.8862589656688306, 0.5157998415088348, 0.6462190380318877, 0.7714890985327258, 0.812912941883369, 0.9684247354055182, 0.5753934709798216, 0.8375245282338526, 0.7991652971153034, 0.9670696349901691, 0.9304976599214242, 0.32168452935611364, 0.32168452935611364, 0.32168452935611364, 0.7473895199292838, 0.9595562086387228, 0.888072845958098, 0.5752482984384648, 0.9605513221044634, 0.03492913898561685, 0.9744773577303314, 0.49152662965668015, 0.7934079470801584, 0.9711794552265022, 0.019423589104530042, 0.6150221026922809, 0.91288211208847, 0.06295738704058414, 0.5887467310264792, 0.3532480386158875, 0.9348409282865584, 0.7017374955557036, 0.8275066700709109, 0.8930149173505947, 0.9679117088335584, 0.9642174435303755, 0.9026548462653697, 0.08417038759387692, 0.011609708633638197, 0.5742027064467751, 0.592793131380882, 0.8087314943154705, 0.5753934709798216, 0.6463571663765373, 0.9614830431499457, 0.8719277810375696, 0.7301788341753002, 0.22818088567978131, 0.8009062329823959, 0.4896252027596605, 0.9715832201254452, 0.8285641603400701, 0.16246356085099414, 0.49906415350564465, 0.8273471576371734, 0.8215315409583318, 0.8859891030942237, 0.7111382622841965, 0.2827417187394998, 0.9526153253797052, 0.9200940470805964, 0.7273407875625748, 0.2734801361235281, 0.9828739060176759, 0.9932476765838458, 0.8908469077238113, 0.1081742673664628, 0.8774064929591184, 0.11698753239454912, 0.9725944343510312, 0.728178780844124, 0.0910223476055155, 0.182044695211031, 0.889873972962266, 0.8832217570188773, 0.9944223544830894, 0.8508246511507578, 0.6150211160342155, 0.35097565247348117, 0.5264634787102218, 0.9928375674350766, 0.8302436217918908, 0.1670612165800756, 0.5057569219038625, 0.3793176914278969, 0.9334476446402796, 0.8197183784053602, 0.9751947508728143, 0.9808273473498728, 0.14029372825920777, 0.7014686412960388, 0.5824362619774636, 0.9864272960685972, 0.8857693787124915, 0.8195195654562646, 0.11707422363660923, 0.8116434429098967, 0.1844644188431583, 0.4913556262699492, 0.4016327117671256, 0.4016327117671256, 0.5824855715120826, 0.880258348702282, 0.16934372328141614, 0.6773748931256646, 0.7614360553208388, 0.6753621734769192, 0.994422107963612, 0.4106163150977165, 0.4927395781172598, 0.788635149950737, 0.9838513421295878, 0.9736807724021245, 0.8562260663018706, 0.9586346795430492, 0.9145631873848065, 0.04034837591403558, 0.02689891727602372, 0.6829723071514416, 0.9702531371745009, 0.7745316002894405, 0.17211813339765342, 0.6812480001623621, 0.28684126322625775, 0.49371615288959636, 0.9641623558401866, 0.8783644613270156, 0.9296135617311408, 0.9403148423207343, 0.5157246145845001, 0.8612787956270802, 0.13780460730033284, 0.36541170222541647, 0.36541170222541647, 0.9814359876373128, 0.42231030738046726, 0.5216774385288125, 0.02484178278708631, 0.7014537495253615, 0.9912665312828073, 0.4886686551807725, 0.9835770011983628, 0.4370770571078093, 0.582769409477079, 0.6818378138464529, 0.504900270895705, 0.3786752031717788, 0.7453131713035082, 0.8030456850673385, 0.8036669489927223, 0.925328193081196, 0.6831588795826233, 0.8887566079511545, 0.9837078598085064, 0.6690728825834001, 0.8939385373949607, 0.9846308012234468, 0.9837931884631481, 0.7475803628053649, 0.9008817864881616, 0.016232104261047958, 0.07304446917471581, 0.008116052130523979, 0.9931858545256415, 0.3557398885321771, 0.3557398885321771, 0.23715992568811806, 0.8833984825868271, 0.5261176180610928, 0.801846672796536, 0.7556586828982127, 0.7014212448132097, 0.6298965277007403, 0.38762863243122486, 0.4644821899744758, 0.4644821899744758, 0.28550707456564767, 0.5710141491312953, 0.6831464796279981, 0.9243321413871385, 0.5148163202991167, 0.10296326405982334, 0.30888979217947, 0.7367657393201441, 0.9569801197134402, 0.5861295586909009, 0.3269263819351037, 0.3269263819351037, 0.3269263819351037, 0.9781771545132054, 0.7670552653990732, 0.1917638163497683, 0.9311803385202612, 0.974513724972869, 0.8802549903067055, 0.8874974941331393, 0.9399767515565826, 0.8197183784053602, 0.837191041938131, 0.7720908995623348, 0.9552716768915565, 0.9850378006015611, 0.7926032082449949, 0.681874456282183, 0.8287037376968228, 0.9568326664943243, 0.04556346030925354, 0.8774863116330455, 0.9797241078350252, 0.6490362581344149, 0.43269083875627656, 0.07628751990072212, 0.686587679106499, 0.22886255970216635, 0.349759437977883, 0.349759437977883, 0.9320118513624366, 0.8936296696979287, 0.08510758759027892, 0.8364901363807832, 0.13941502273013054, 0.34543583452530274, 0.17271791726265137, 0.25907687589397704, 0.17271791726265137, 0.8737736628090141, 0.34842415868660226, 0.34842415868660226, 0.4791957645045286, 0.9576200525346896, 0.9784704239060703, 0.7064976273591194, 0.17662440683977984, 0.17662440683977984, 0.738621686655072, 0.184655421663768, 0.909738092444744, 0.49197385932235604, 0.49197385932235604, 0.8378894761679773, 0.9889404050595209, 0.7281685254829027, 0.2427228418276342, 0.8083462528866585, 0.9777310114955801, 0.9965845378078927, 0.9683915195902, 0.971541094321468, 0.9680880395976237, 0.9426589499921586, 0.021424067045276333, 0.021424067045276333, 0.572250504465816, 0.41618218506604804, 0.6716981978289128, 0.22389939927630428, 0.07463313309210143, 0.8633142576684614, 0.3577605146503863, 0.5366407719755794, 0.9856559324911851, 0.8840262730747132, 0.9884360942780301, 0.013357244517270678, 0.8751985648259454, 0.7484666600210134, 0.9364317334028741, 0.6818378138464529, 0.9672515373263534, 0.8578222856728989, 0.7389731032986964, 0.681874456282183, 0.9682338257576915, 0.9835042483779887, 0.8274261058828873, 0.4335894459750252, 0.4335894459750252], \"Term\": [\"abbs\", \"afraid\", \"afternoon\", \"afternoon\", \"afternoon\", \"american\", \"anderson\", \"andrew\", \"anna\", \"annie\", \"annie\", \"appeal\", \"apple\", \"aquarium\", \"around\", \"assist\", \"aunt_allie\", \"aunt_allie\", \"aunt_lillie\", \"aunt_lillie\", \"aunt_lillie\", \"ave\", \"away\", \"awful\", \"back\", \"bag\", \"bal\", \"band\", \"band\", \"basket\", \"beam\", \"beam\", \"beamsville\", \"beatrice\", \"beatrice\", \"belt\", \"bhelma\", \"bible\", \"birdsall\", \"birdsall\", \"black\", \"book\", \"book\", \"book\", \"boyle\", \"bright\", \"bring\", \"bring\", \"brush\", \"bush\", \"buy\", \"cadet\", \"call\", \"call\", \"came_home\", \"came_home\", \"came_home\", \"can\", \"cap\", \"care\", \"carpet\", \"cartwright\", \"cat\", \"catch\", \"catch\", \"change\", \"chatfield\", \"cheap\", \"christian\", \"christian\", \"chromatique\", \"church\", \"church\", \"cincinnati\", \"class\", \"clean\", \"clifton\", \"closing\", \"coat\", \"collar\", \"collect\", \"collect\", \"collegiate\", \"collier\", \"color\", \"come\", \"come\", \"come\", \"coming_home\", \"coming_home\", \"concert\", \"constance\", \"cool\", \"cool\", \"corelli\", \"corset\", \"corticelli\", \"cousin\", \"cousin\", \"cowie\", \"crawford\", \"crokinole\", \"damp\", \"daughter\", \"david\", \"david\", \"day\", \"dead\", \"decew\", \"decew\", \"deer\", \"delibe\", \"demill\", \"demill\", \"depot\", \"dewey\", \"dexter\", \"diary\", \"dinner\", \"disagreeable\", \"do\", \"dow\", \"doz\", \"dr\", \"dress\", \"dress\", \"dress\", \"drive\", \"drive\", \"drive\", \"drive\", \"dudley\", \"dudley\", \"dwyer\", \"early\", \"ebony\", \"eckhardt\", \"eckhardt\", \"elect\", \"end\", \"enjoy\", \"etude\", \"etude\", \"etude\", \"eva\", \"eva\", \"evening\", \"evening\", \"exercise\", \"far\", \"far\", \"fern\", \"fern\", \"fine\", \"fine\", \"finish\", \"fire\", \"fire\", \"fix\", \"fix\", \"flag\", \"floor\", \"floyd\", \"foot\", \"foot\", \"forget\", \"francis\", \"frank\", \"freeman\", \"german\", \"german\", \"get\", \"get\", \"gibson\", \"give\", \"give\", \"give\", \"globe\", \"globe\", \"go\", \"go\", \"go\", \"god\", \"good\", \"grandpa\", \"grandpa\", \"gray\", \"great\", \"grit\", \"grunfeld\", \"hair\", \"hamilton\", \"handle\", \"harden\", \"harold\", \"hat\", \"head\", \"hear\", \"hear\", \"hear\", \"hear\", \"heart\", \"heaven\", \"help\", \"holden\", \"holiday\", \"home\", \"home\", \"home\", \"homer\", \"hurrah\", \"ida\", \"ii\", \"ii\", \"inksater\", \"invite\", \"jack\", \"jadassohn\", \"james\", \"jarvis\", \"jessie\", \"jessie\", \"joseph\", \"keating\", \"kid\", \"kilmer\", \"kimberley\", \"king\", \"kitchen\", \"kitten\", \"kullak\", \"lamb\", \"lane\", \"later\", \"lb\", \"leave\", \"leave\", \"leave\", \"lecture\", \"lee\", \"lent\", \"leorena\", \"lesson\", \"lesson\", \"letter\", \"life\", \"lily\", \"little\", \"little\", \"lizard\", \"lizzie\", \"lizzie\", \"lloyd\", \"lloyd\", \"look\", \"louis\", \"love\", \"lovely\", \"mabel\", \"magazine\", \"mamma\", \"mamma\", \"mamma\", \"marie\", \"marmaduke\", \"martindale\", \"masque\", \"matin\", \"matt\", \"mattie\", \"mclaren\", \"mclaren\", \"meat\", \"medicine\", \"meet\", \"miss\", \"miss\", \"missionary\", \"money\", \"month\", \"monument\", \"morning\", \"morning\", \"morning_sermon\", \"mount\", \"mr\", \"mr\", \"mr_perry\", \"mr_read\", \"mrs\", \"mrs\", \"mrs_haun\", \"mrs_haun\", \"mrs_sullivan\", \"much\", \"much\", \"much\", \"mudturtle\", \"murphy\", \"music_lesson\", \"name\", \"national\", \"nellie\", \"nellie\", \"new\", \"night\", \"night\", \"noon\", \"noon\", \"number\", \"octave\", \"office\", \"old\", \"order\", \"order\", \"other\", \"overholt\", \"paint\", \"pair\", \"pair\", \"papa\", \"papa\", \"parlor\", \"pays\", \"pays\", \"pedro\", \"penwiper\", \"people\", \"people\", \"peter\", \"phelps\", \"phoebe\", \"pick\", \"pick\", \"picnic\", \"picture\", \"piece\", \"pin\", \"place\", \"play\", \"play\", \"play\", \"porcupine\", \"port\", \"post\", \"post\", \"present\", \"present\", \"pretoria\", \"pretty\", \"pulley\", \"quilt\", \"quite\", \"race\", \"rain\", \"rain\", \"raining\", \"raining\", \"rainy\", \"read\", \"read\", \"read\", \"reading\", \"ready\", \"recite\", \"rev\", \"ribbon\", \"ribbon\", \"richard\", \"ride\", \"ride\", \"ridley\", \"right\", \"ring\", \"root\", \"rose\", \"ross\", \"roy\", \"run\", \"samuel\", \"say\", \"school\", \"season\", \"see\", \"see\", \"see\", \"see\", \"sermon\", \"service\", \"service\", \"service\", \"set\", \"seymour\", \"shoot\", \"sid\", \"silk\", \"sing\", \"sing\", \"sir\", \"sir\", \"sister\", \"sister\", \"size\", \"snail\", \"snow\", \"snow\", \"snow\", \"snowy\", \"social\", \"spring\", \"st\", \"st\", \"st\", \"st_john\", \"stamp\", \"stamp\", \"stand\", \"start\", \"store\", \"story\", \"street\", \"study\", \"sullivan\", \"sun\", \"sunday\", \"sunday_school\", \"surprise\", \"sweeping\", \"taffy\", \"take\", \"take\", \"talk\", \"tea\", \"teapot\", \"teapot\", \"thing\", \"thing\", \"thing\", \"ticket\", \"ticket\", \"tie\", \"time\", \"time\", \"tom\", \"tom\", \"toronto\", \"toronto\", \"toronto\", \"toronto\", \"train\", \"transfer\", \"transfer\", \"treat\", \"trolley\", \"trusty\", \"tuesday\", \"tuesday\", \"tuesday\", \"turn\", \"turn\", \"twin\", \"uncle\", \"uncle\", \"uncle_horace\", \"uptown\", \"valse\", \"valse\", \"vanderburgh\", \"velvet\", \"verse\", \"verses\", \"waist\", \"walk\", \"want\", \"want\", \"want\", \"warm\", \"warm\", \"wash\", \"wash\", \"wash\", \"washing\", \"watch\", \"watch\", \"water\", \"weekly\", \"went_uptown\", \"went_uptown\", \"wheel\", \"whether\", \"wide\", \"wilfrid\", \"williams\", \"wind\", \"window\", \"wishbone\", \"world\", \"xii\", \"yet\", \"york\", \"york\"]}, \"R\": 30, \"lambda.step\": 0.01, \"plot.opts\": {\"xlab\": \"PC1\", \"ylab\": \"PC2\"}, \"topic.order\": [8, 2, 7, 5, 9, 6, 1, 3, 4]};\n",
       "\n",
       "function LDAvis_load_lib(url, callback){\n",
       "  var s = document.createElement('script');\n",
       "  s.src = url;\n",
       "  s.async = true;\n",
       "  s.onreadystatechange = s.onload = callback;\n",
       "  s.onerror = function(){console.warn(\"failed to load library \" + url);};\n",
       "  document.getElementsByTagName(\"head\")[0].appendChild(s);\n",
       "}\n",
       "\n",
       "if(typeof(LDAvis) !== \"undefined\"){\n",
       "   // already loaded: just create the visualization\n",
       "   !function(LDAvis){\n",
       "       new LDAvis(\"#\" + \"ldavis_el104221404630466564005619427217\", ldavis_el104221404630466564005619427217_data);\n",
       "   }(LDAvis);\n",
       "}else if(typeof define === \"function\" && define.amd){\n",
       "   // require.js is available: use it to load d3/LDAvis\n",
       "   require.config({paths: {d3: \"https://d3js.org/d3.v5\"}});\n",
       "   require([\"d3\"], function(d3){\n",
       "      window.d3 = d3;\n",
       "      LDAvis_load_lib(\"https://cdn.jsdelivr.net/gh/bmabey/pyLDAvis@3.3.1/pyLDAvis/js/ldavis.v3.0.0.js\", function(){\n",
       "        new LDAvis(\"#\" + \"ldavis_el104221404630466564005619427217\", ldavis_el104221404630466564005619427217_data);\n",
       "      });\n",
       "    });\n",
       "}else{\n",
       "    // require.js not available: dynamically load d3 & LDAvis\n",
       "    LDAvis_load_lib(\"https://d3js.org/d3.v5.js\", function(){\n",
       "         LDAvis_load_lib(\"https://cdn.jsdelivr.net/gh/bmabey/pyLDAvis@3.3.1/pyLDAvis/js/ldavis.v3.0.0.js\", function(){\n",
       "                 new LDAvis(\"#\" + \"ldavis_el104221404630466564005619427217\", ldavis_el104221404630466564005619427217_data);\n",
       "            })\n",
       "         });\n",
       "}\n",
       "</script>"
      ],
      "text/plain": [
       "PreparedData(topic_coordinates=              x         y  topics  cluster       Freq\n",
       "topic                                                \n",
       "7      0.323959 -0.096960       1        1  57.433728\n",
       "1      0.216260  0.196797       2        1  17.766423\n",
       "6      0.017610 -0.185998       3        1   8.013069\n",
       "4     -0.094109  0.022929       4        1   4.737307\n",
       "8     -0.088775  0.019861       5        1   3.386432\n",
       "5     -0.098379  0.004795       6        1   2.512261\n",
       "0     -0.101528  0.012491       7        1   2.337847\n",
       "2     -0.098300  0.009750       8        1   2.304870\n",
       "3     -0.076737  0.016334       9        1   1.508062, topic_info=         Term        Freq       Total Category  logprob  loglift\n",
       "18         go  631.000000  631.000000  Default  30.0000  30.0000\n",
       "75     church  142.000000  142.000000  Default  29.0000  29.0000\n",
       "266       eva   90.000000   90.000000  Default  28.0000  28.0000\n",
       "17        get  350.000000  350.000000  Default  27.0000  27.0000\n",
       "1377    drive   79.000000   79.000000  Default  26.0000  26.0000\n",
       "...       ...         ...         ...      ...      ...      ...\n",
       "77    evening    1.649670   12.247112   Topic9  -4.8220   2.1896\n",
       "771      york    0.964896    2.306329   Topic9  -5.3583   3.3230\n",
       "266       eva    2.029453   90.934774   Topic9  -4.6148   0.3920\n",
       "403    ticket    0.927919    2.859108   Topic9  -5.3974   3.0690\n",
       "372   tuesday    0.877023    5.661732   Topic9  -5.4538   2.3294\n",
       "\n",
       "[425 rows x 6 columns], token_table=      Topic      Freq       Term\n",
       "term                            \n",
       "373       6  0.567568       abbs\n",
       "2121      7  0.930321     afraid\n",
       "32        1  0.960497  afternoon\n",
       "32        2  0.014022  afternoon\n",
       "32        3  0.021033  afternoon\n",
       "...     ...       ...        ...\n",
       "1211      7  0.968234      world\n",
       "1117      2  0.983504        xii\n",
       "1928      7  0.827426        yet\n",
       "771       1  0.433589       york\n",
       "771       9  0.433589       york\n",
       "\n",
       "[501 rows x 3 columns], R=30, lambda_step=0.01, plot_opts={'xlab': 'PC1', 'ylab': 'PC2'}, topic_order=[8, 2, 7, 5, 9, 6, 1, 3, 4])"
      ]
     },
     "execution_count": 255,
     "metadata": {},
     "output_type": "execute_result"
    }
   ],
   "source": [
    "#Generate Model and get basic dynamics of it\n",
    "lda_model_optimized = gensim.models.ldamodel.LdaModel(\\\n",
    "                                            alpha=ALPHA,\n",
    "                                            chunksize=CHUNKSIZE,\n",
    "                                            corpus=corpus,\n",
    "                                            id2word=id2word,\n",
    "                                            iterations = ITERATIONS,\n",
    "                                            num_topics=NUM_TOPICS,\n",
    "                                            passes= PASSES,\n",
    "                                            per_word_topics= PER_WORD_TOPICS,\n",
    "                                            random_state=RANDOM_STATE,\n",
    "                                            update_every=UPDATE_EVERY,\n",
    "                                           )\n",
    "\n",
    "print(\"Done Building Optimized Model\")\n",
    "\n",
    "cs = CoherenceModel(model = lda_model_optimized, \\\n",
    "                               texts = data_lemmatized, \\\n",
    "                               dictionary = id2word, \\\n",
    "                               coherence = COHERENCE_METHOD\n",
    "                     )\n",
    "print(\"Coherence? \",cs.get_coherence())\n",
    "\n",
    "vis2 = pyLDAvis.gensim_models.prepare(lda_model_optimized,corpus,id2word)\n",
    "vis2"
   ]
  },
  {
   "cell_type": "markdown",
   "metadata": {},
   "source": [
    "# What makes a topic?\n",
    "\n",
    "Let's look at the top words associated with each topic to see if we can get a sense of what each one might be 'about'"
   ]
  },
  {
   "cell_type": "code",
   "execution_count": 256,
   "metadata": {},
   "outputs": [
    {
     "name": "stdout",
     "output_type": "stream",
     "text": [
      "\n",
      "Topic Number:  1\n",
      "\n",
      "\n",
      "0.020 -> \"deer\" \n",
      "0.018 -> \"wide\" \n",
      "0.017 -> \"order\" \n",
      "0.017 -> \"uncle_horace\" \n",
      "0.014 -> \"world\"\n",
      "\n",
      "Topic Number:  2\n",
      "\n",
      "\n",
      "0.062 -> \"go\" \n",
      "0.050 -> \"church\" \n",
      "0.023 -> \"lesson\" \n",
      "0.021 -> \"sunday_school\" \n",
      "0.019 -> \"mr\"\n",
      "\n",
      "Topic Number:  3\n",
      "\n",
      "\n",
      "0.024 -> \"hat\" \n",
      "0.018 -> \"boyle\" \n",
      "0.016 -> \"paint\" \n",
      "0.014 -> \"kitchen\" \n",
      "0.013 -> \"murphy\"\n",
      "\n",
      "Topic Number:  4\n",
      "\n",
      "\n",
      "0.023 -> \"quite\" \n",
      "0.012 -> \"run\" \n",
      "0.011 -> \"cool\" \n",
      "0.010 -> \"eva\" \n",
      "0.010 -> \"tom\"\n",
      "\n",
      "Topic Number:  5\n",
      "\n",
      "\n",
      "0.020 -> \"rainy\" \n",
      "0.013 -> \"story\" \n",
      "0.012 -> \"aunt_allie\" \n",
      "0.011 -> \"black\" \n",
      "0.011 -> \"hamilton\"\n",
      "\n",
      "Topic Number:  6\n",
      "\n",
      "\n",
      "0.040 -> \"ready\" \n",
      "0.016 -> \"basket\" \n",
      "0.013 -> \"ring\" \n",
      "0.012 -> \"store\" \n",
      "0.010 -> \"valse\"\n",
      "\n",
      "Topic Number:  7\n",
      "\n",
      "\n",
      "0.025 -> \"go\" \n",
      "0.022 -> \"drive\" \n",
      "0.018 -> \"overholt\" \n",
      "0.012 -> \"st\" \n",
      "0.011 -> \"stamp\"\n",
      "\n",
      "Topic Number:  8\n",
      "\n",
      "\n",
      "0.058 -> \"go\" \n",
      "0.044 -> \"get\" \n",
      "0.040 -> \"mamma\" \n",
      "0.025 -> \"papa\" \n",
      "0.023 -> \"come\"\n",
      "\n",
      "Topic Number:  9\n",
      "\n",
      "\n",
      "0.020 -> \"frank\" \n",
      "0.018 -> \"warm\" \n",
      "0.017 -> \"tie\" \n",
      "0.010 -> \"meat\" \n",
      "0.009 -> \"francis\"\n"
     ]
    }
   ],
   "source": [
    "for t in range(0,NUM_TOPICS):\n",
    "    print(\"\\nTopic Number: \",t+1)\n",
    "    print(\"\\n\")\n",
    "    topic_phrase = lda_model_optimized.print_topic(t,topn=TOPICS_TO_SHOW)\n",
    "    for tp in topic_phrase.split(\"+ \"):\n",
    "        print(tp.replace(\"*\",\" -> \"))"
   ]
  },
  {
   "cell_type": "markdown",
   "metadata": {},
   "source": [
    "# Which Entries Go to Which Topics?\n",
    "\n",
    "Now that we have a stable description of topics in the text. Let's see which entries are associated with each topic"
   ]
  },
  {
   "cell_type": "code",
   "execution_count": 267,
   "metadata": {},
   "outputs": [
    {
     "data": {
      "text/html": [
       "<div>\n",
       "<style scoped>\n",
       "    .dataframe tbody tr th:only-of-type {\n",
       "        vertical-align: middle;\n",
       "    }\n",
       "\n",
       "    .dataframe tbody tr th {\n",
       "        vertical-align: top;\n",
       "    }\n",
       "\n",
       "    .dataframe thead th {\n",
       "        text-align: right;\n",
       "    }\n",
       "</style>\n",
       "<table border=\"1\" class=\"dataframe\">\n",
       "  <thead>\n",
       "    <tr style=\"text-align: right;\">\n",
       "      <th></th>\n",
       "      <th>entry</th>\n",
       "    </tr>\n",
       "    <tr>\n",
       "      <th>topic</th>\n",
       "      <th></th>\n",
       "    </tr>\n",
       "  </thead>\n",
       "  <tbody>\n",
       "    <tr>\n",
       "      <th>1</th>\n",
       "      <td>2</td>\n",
       "    </tr>\n",
       "    <tr>\n",
       "      <th>2</th>\n",
       "      <td>48</td>\n",
       "    </tr>\n",
       "    <tr>\n",
       "      <th>5</th>\n",
       "      <td>4</td>\n",
       "    </tr>\n",
       "    <tr>\n",
       "      <th>6</th>\n",
       "      <td>1</td>\n",
       "    </tr>\n",
       "    <tr>\n",
       "      <th>7</th>\n",
       "      <td>10</td>\n",
       "    </tr>\n",
       "    <tr>\n",
       "      <th>8</th>\n",
       "      <td>294</td>\n",
       "    </tr>\n",
       "    <tr>\n",
       "      <th>9</th>\n",
       "      <td>4</td>\n",
       "    </tr>\n",
       "  </tbody>\n",
       "</table>\n",
       "</div>"
      ],
      "text/plain": [
       "       entry\n",
       "topic       \n",
       "1          2\n",
       "2         48\n",
       "5          4\n",
       "6          1\n",
       "7         10\n",
       "8        294\n",
       "9          4"
      ]
     },
     "execution_count": 267,
     "metadata": {},
     "output_type": "execute_result"
    }
   ],
   "source": [
    "top_cats = []\n",
    "top_prop = []\n",
    "\n",
    "for i in range(0,len(corpus)):\n",
    "  #print(f_lookup[i], \"->\",sorted(lda_model.get_document_topics(corpus[i]),key = lambda tup: tup[1],reverse=True)[0])\n",
    "  top_cats.append(sorted(lda_model_optimized.get_document_topics(corpus[i]),key = lambda tup: tup[1],reverse=True)[0][0] + 1)\n",
    "  top_prop.append(sorted(lda_model_optimized.get_document_topics(corpus[i]),key = lambda tup: tup[1],reverse=True)[0][1])\n",
    "\n",
    "\n",
    "winnie_corpus['topic'] = top_cats\n",
    "winnie_corpus['prob_for_topic'] = top_prop\n",
    "\n",
    "winnie_corpus.groupby(['topic'])[['entry']].count()"
   ]
  },
  {
   "cell_type": "markdown",
   "metadata": {},
   "source": [
    "## Closer look at a topic?\n",
    "\n",
    "Change the value of **topic_to_view** to a number in the list above to see the top 15 words identified with that topic and 5 random entries that have that topic as the primary identified topic of the entry"
   ]
  },
  {
   "cell_type": "code",
   "execution_count": 268,
   "metadata": {},
   "outputs": [
    {
     "name": "stdout",
     "output_type": "stream",
     "text": [
      "\n",
      "=== Topics: \n",
      "0.062 -> \"go\" \n",
      "0.050 -> \"church\" \n",
      "0.023 -> \"lesson\" \n",
      "0.021 -> \"sunday_school\" \n",
      "0.019 -> \"mr\"\n",
      "\n",
      "=== Lemmatized entry: \n",
      "['church', 'morning_sermon', 'phil', 'th', 'verses', 'communion', 'sunday', 'afternoon', 'snow', 'hard', 'go', 'sunday_school', 'mamma', 'headache', 'go', 'night', 'read', 'titus', 'chief', 'character', 'titus', 'son', 'high', 'priest', 'caiapha', 'steal', 'servant', 'prisea', 'young', 'husband', 'ruffian', 'titus', 'suppose', 'father', 'thief', 'hang', 'cross', 'christ', 'crucifixion']\n"
     ]
    },
    {
     "data": {
      "text/html": [
       "<div>\n",
       "<style scoped>\n",
       "    .dataframe tbody tr th:only-of-type {\n",
       "        vertical-align: middle;\n",
       "    }\n",
       "\n",
       "    .dataframe tbody tr th {\n",
       "        vertical-align: top;\n",
       "    }\n",
       "\n",
       "    .dataframe thead th {\n",
       "        text-align: right;\n",
       "    }\n",
       "</style>\n",
       "<table border=\"1\" class=\"dataframe\">\n",
       "  <thead>\n",
       "    <tr style=\"text-align: right;\">\n",
       "      <th></th>\n",
       "      <th>page</th>\n",
       "      <th>date</th>\n",
       "      <th>entry</th>\n",
       "      <th>topic</th>\n",
       "      <th>prob_for_topic</th>\n",
       "    </tr>\n",
       "  </thead>\n",
       "  <tbody>\n",
       "    <tr>\n",
       "      <th>62</th>\n",
       "      <td>38</td>\n",
       "      <td>1900-03-04</td>\n",
       "      <td>Was at church in the morning Sermon Phil 3. 13 &amp; 14th verses Communion Sunday. In the afternoon it was snowing hard so I did not go to Sunday School. Mamma had a headache so we did not go at night. I read \"Titus\" over again. The chief character is Titus the son of the high priest Caiaphas, but he was stolen by a servant Prisea when he was young and her husband was a ruffian and Titus &amp; the supposed father were the thieves hung on the cross at Christ's crucifixion</td>\n",
       "      <td>2</td>\n",
       "      <td>0.892591</td>\n",
       "    </tr>\n",
       "  </tbody>\n",
       "</table>\n",
       "</div>"
      ],
      "text/plain": [
       "    page       date  \\\n",
       "62    38 1900-03-04   \n",
       "\n",
       "                                                                                                                                                                                                                                                                                                                                                                                                                                                                                  entry  \\\n",
       "62  Was at church in the morning Sermon Phil 3. 13 & 14th verses Communion Sunday. In the afternoon it was snowing hard so I did not go to Sunday School. Mamma had a headache so we did not go at night. I read \"Titus\" over again. The chief character is Titus the son of the high priest Caiaphas, but he was stolen by a servant Prisea when he was young and her husband was a ruffian and Titus & the supposed father were the thieves hung on the cross at Christ's crucifixion   \n",
       "\n",
       "    topic  prob_for_topic  \n",
       "62      2        0.892591  "
      ]
     },
     "execution_count": 268,
     "metadata": {},
     "output_type": "execute_result"
    }
   ],
   "source": [
    "topic_to_view = 2\n",
    "topic_phrase = lda_model_optimized.print_topic(topic_to_view-1,topn=TOPICS_TO_SHOW)\n",
    "print(\"\\n=== Topics: \")\n",
    "for tp in topic_phrase.split(\"+ \"):\n",
    "    print(tp.replace(\"*\",\" -> \"))\n",
    "\n",
    "sample_item = winnie_corpus[(winnie_corpus['topic'] == topic_to_view)].sample(1)\n",
    "\n",
    "#sample_item.index\n",
    "print(\"\\n=== Lemmatized entry: \")\n",
    "print(data_lemmatized[sample_item.index.astype(int)[0]])\n",
    "sample_item"
   ]
  },
  {
   "cell_type": "markdown",
   "metadata": {},
   "source": [
    "## EG 2\n",
    "\n",
    "Now that we have looked at the topic modelling of the Winnie Beam diary let's see if we can apply the same lessons to another corpus."
   ]
  }
 ],
 "metadata": {
  "kernelspec": {
   "display_name": "Python 3 (ipykernel)",
   "language": "python",
   "name": "python3"
  },
  "language_info": {
   "codemirror_mode": {
    "name": "ipython",
    "version": 3
   },
   "file_extension": ".py",
   "mimetype": "text/x-python",
   "name": "python",
   "nbconvert_exporter": "python",
   "pygments_lexer": "ipython3",
   "version": "3.9.13"
  }
 },
 "nbformat": 4,
 "nbformat_minor": 2
}
